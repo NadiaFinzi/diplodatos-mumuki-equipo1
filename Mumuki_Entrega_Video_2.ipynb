{
  "nbformat": 4,
  "nbformat_minor": 5,
  "metadata": {
    "colab": {
      "name": "Mumuki_Entrega_Video_2.ipynb",
      "provenance": [],
      "collapsed_sections": [
        "ScIzoHTB-uOO",
        "DN_jjsoHb37W",
        "vzKtcQ9ZmDFS",
        "CEpmdp5Rma_V",
        "5CJDLNT5ma_2",
        "nVRXPHjBma_8",
        "jEfV3Mq2mbAB",
        "54jOL7Z1ImKs",
        "PdOC28Ni9vjW",
        "7BN3L7TXlzq1",
        "HZHvFlsfq-vt",
        "BkK68BiRoPz_",
        "z8sIwflVwstO",
        "G0TdNxZ3Z716",
        "xpo4ts_Fffu4",
        "7E-GsFkWnoP2",
        "p6WpNzsP05b4",
        "SfdGqGadpbnp",
        "EFdE7XhgoDX-",
        "OWqIvpWk3Dn-",
        "dXYt9ae4J4YZ",
        "EhsYtHNXIS9_",
        "4oCN_hS7LEOD",
        "5SZmThBxGT53"
      ],
      "toc_visible": true,
      "include_colab_link": true
    },
    "kernelspec": {
      "display_name": "Python 3",
      "language": "python",
      "name": "python3"
    },
    "language_info": {
      "codemirror_mode": {
        "name": "ipython",
        "version": 3
      },
      "file_extension": ".py",
      "mimetype": "text/x-python",
      "name": "python",
      "nbconvert_exporter": "python",
      "pygments_lexer": "ipython3",
      "version": "3.8.8"
    }
  },
  "cells": [
    {
      "cell_type": "markdown",
      "metadata": {
        "id": "view-in-github",
        "colab_type": "text"
      },
      "source": [
        "<a href=\"https://colab.research.google.com/github/NadiaFinzi/diplodatos-mumuki-equipo1/blob/main/Mumuki_Entrega_Video_2.ipynb\" target=\"_parent\"><img src=\"https://colab.research.google.com/assets/colab-badge.svg\" alt=\"Open In Colab\"/></a>"
      ]
    },
    {
      "cell_type": "markdown",
      "metadata": {
        "id": "ScIzoHTB-uOO"
      },
      "source": [
        "**Diplomatura en Ciencia de Datos, Aprendizaje Automático y sus Aplicaciones**\n",
        "\n",
        "**Edición 2021**\n",
        "\n",
        "---\n",
        "## Mentoría MUMUKI\n",
        "## **\"Predicción de deserción en una plataforma educativa para aprender a programar\".**\n",
        "\n",
        "### Mentor\n",
        "\n",
        "- Bulgarelli, Franco Leonardo\n",
        "\n",
        "### Integrantes\n",
        "\n",
        "- Finzi, Nadia\n",
        "- Gherra C., Estefanía Inés\n",
        "- Primo, Eugenia\n",
        "\n",
        "### Videos\n",
        "\n",
        "*   [Primera entrega](https://www.youtube.com/watch?v=cM2WSmDDu9Y)\n",
        "*   [Segunda entrega](https://www.youtube.com/watch?v=u7QfSTs7Tis)\n"
      ],
      "id": "ScIzoHTB-uOO"
    },
    {
      "cell_type": "markdown",
      "metadata": {
        "id": "DN_jjsoHb37W"
      },
      "source": [
        "# Bibliotecas, funciones e importación de datos"
      ],
      "id": "DN_jjsoHb37W"
    },
    {
      "cell_type": "code",
      "metadata": {
        "id": "31a27d4f-b545-4b2f-a5d3-9e4f19c1ba34"
      },
      "source": [
        "# Librerías y configuraciones generales\n",
        "\n",
        "# Esenciales\n",
        "import pandas as pd\n",
        "import numpy as np\n",
        "from datetime import datetime, date, time, timedelta\n",
        "import calendar\n",
        "\n",
        "# Visualizacion\n",
        "import matplotlib.pyplot as plt\n",
        "plt.style.use('ggplot')\n",
        "plt.rcParams['axes.facecolor']='w'\n",
        "plt.rcParams['grid.color'] = 'grey'\n",
        "plt.rcParams['grid.alpha'] = 0.2 \n",
        "plt.rcParams['grid.linestyle'] = \"-.\"\n",
        "\n",
        "%matplotlib inline\n",
        "import seaborn as sns\n",
        "\n",
        "# Varios\n",
        "import warnings\n",
        "warnings.filterwarnings('ignore')\n",
        "\n",
        "# Entrenamiento\n",
        "from sklearn.model_selection import train_test_split\n",
        "from sklearn.linear_model import LogisticRegression\n",
        "from imblearn.over_sampling import SMOTE\n",
        "\n",
        "# Métricas\n",
        "from sklearn.metrics import classification_report, accuracy_score, precision_score, recall_score, f1_score, confusion_matrix, plot_confusion_matrix\n",
        "from sklearn.metrics import f1_score"
      ],
      "id": "31a27d4f-b545-4b2f-a5d3-9e4f19c1ba34",
      "execution_count": null,
      "outputs": []
    },
    {
      "cell_type": "code",
      "metadata": {
        "id": "yjViw0bdkAqz"
      },
      "source": [
        "# Definición de funciones y procedimientos propios\n",
        "\n",
        "def graficar_boxplot(dataframe, columna, aclaracion_titulo, label_x, pie_grafico):\n",
        "  fig = plt.figure(figsize=(8, 6))\n",
        "  g = sns.boxenplot(data=dataframe, x= columna, color='salmon')\n",
        "  plt.title('Boxplot de la variable ' + columna + aclaracion_titulo, fontsize=14, weight='bold')\n",
        "  plt.ylabel(\"\")\n",
        "  plt.xlabel(\"\\n\" + label_x, fontsize=10)\n",
        "  plt.annotate( pie_grafico, xy=(0.3, -0.25), xycoords='axes fraction', ha='right', va='center', fontsize=12)\n",
        "\n",
        "def submissions_correctas(df):\n",
        "  return df[(df[\"submission_status\"] == \"passed\") | (df[\"submission_status\"] == \"passed_with_warnings\")]\n",
        "\n",
        "def submissions_incorrectas(df):\n",
        "  return df[(df[\"submission_status\"] == \"failed\") | (df[\"submission_status\"] == \"errored\")]\n",
        "\n",
        "def ordenar_y_agrupar(df):\n",
        "  return df.sort_values([\"student_uid\", \"submission_created_at\"]).reset_index(drop=True).groupby([\"student_uid\", \"exercise_new_id\"])\n",
        "\n",
        "def plot_scatter_grid(x, y, exercises):\n",
        "  row = 3\n",
        "  col = 2\n",
        "  i = 1 # inicia el conteo\n",
        "\n",
        "  plt.figure(figsize = (20,15))\n",
        "  for exercise in exercises:\n",
        "    selector = estudiante_por_ejercicio[estudiante_por_ejercicio[\"exercise_new_id\"] == exercise]\n",
        "    plt.subplot(row, col, i)\n",
        "    plt.title(\"Ejercicio \" + str(exercise))\n",
        "    sns.scatterplot(x = x, y = y, hue = 'cond_cant_ejer_resueltos', data = selector, facecolor=\"dodgerblue\", edgecolor=\"k\", palette=[\"blue\", \"red\"])\n",
        "    i += 1\n",
        "\n",
        "  plt.subplots_adjust(wspace = 0.3, hspace = 0.5) \n",
        "  plt.show()\n",
        "\n",
        "# Funciones para armar modelos de regresión logística\n",
        "\n",
        "def data_por_student(ids_ejercicios, imputar_con_constante, imputacion_nan):\n",
        "  # Base con desagregación de ejercicios, por variables: intentos_incorrectos y tiempo_total.\n",
        "  data = estudiante_por_ejercicio[estudiante_por_ejercicio.exercise_new_id.isin(ids_ejercicios)][[\"student_uid\", \"cond_cant_ejer_resueltos\", \"exercise_new_id\", \"intentos_incorrectos\", \"tiempo_total\", \"ultimo_estado\"]]\n",
        "  \n",
        "  data[\"ultimo_estado\"] = 0  # 0 = resolvió el ejercicio, sin importar en qué estado\n",
        "  \n",
        "  # Armamos la tabla pivot\n",
        "  data[\"exercise_new_id\"] = data[\"exercise_new_id\"].astype(str)\n",
        "  data_por_estudiante = pd.pivot_table(data, index= [\"student_uid\", \"cond_cant_ejer_resueltos\"], columns = [\"exercise_new_id\"], fill_value= np.nan)\n",
        "  data_por_estudiante.columns = ['_'.join(col).strip() for col in data_por_estudiante.columns.values]\n",
        "  \n",
        "  # Llenamos el último estado con 1 si no resolvió cada ejercicio\n",
        "  for col in data_por_estudiante.columns[data_por_estudiante.columns.str.contains(\"ultimo_estado\")]:\n",
        "    data_por_estudiante[col] = data_por_estudiante[col].fillna(1) \n",
        "  \n",
        "  # Imputamos los NaN's en intentos incorrectos y en tiempo invertido de cada ejercicio\n",
        "  if imputar_con_constante:\n",
        "    data_por_estudiante.fillna(imputacion_nan, inplace = True) # Asigna la imputacion_nan para variables tiempo e intentos incorrectos\n",
        "  else:\n",
        "    for col in data_por_estudiante.columns: \n",
        "      data_por_estudiante[col] = np.where(data_por_estudiante[col].isna(), data_por_estudiante[col].max(), data_por_estudiante[col])\n",
        "  return data_por_estudiante.reset_index()\n",
        "\n",
        "def regresion_logistica(df, test_size, drop_ultimo_estado):\n",
        "  X = df.drop(columns = [\"cond_cant_ejer_resueltos\"])\n",
        "  if drop_ultimo_estado:\n",
        "    X.drop(columns = X.columns[X.columns.str.contains(\"ultimo_estado\")], inplace = True)\n",
        "  y = df.cond_cant_ejer_resueltos\n",
        "  X_train, X_test, y_train, y_test = train_test_split(X, y, test_size=test_size, random_state=0)\n",
        "  lr = LogisticRegression(random_state=0).fit(X_train, y_train)\n",
        "  return X_train, X_test, y_train, y_test, lr.predict(X_train), lr.predict(X_test)\n",
        "\n",
        "def construir_regresion_logistica(ids_ejercicios, test_size, imputar_con_constante, imputacion_nan, drop_ultimo_estado):\n",
        "  return regresion_logistica(data_por_student(ids_ejercicios, imputar_con_constante, imputacion_nan), test_size, drop_ultimo_estado)"
      ],
      "id": "yjViw0bdkAqz",
      "execution_count": null,
      "outputs": []
    },
    {
      "cell_type": "code",
      "metadata": {
        "id": "UkxmMLx-Ug1M"
      },
      "source": [
        "# Apertura del dataset desde Google Drive\n",
        "\n",
        "from pydrive.auth import GoogleAuth\n",
        "from pydrive.drive import GoogleDrive\n",
        "from google.colab import auth\n",
        "from oauth2client.client import GoogleCredentials\n",
        "\n",
        "def connect_to_drive():\n",
        "  auth.authenticate_user()\n",
        "  gauth = GoogleAuth()\n",
        "  gauth.credentials = GoogleCredentials.get_application_default()\n",
        "  return GoogleDrive(gauth)\n",
        "\n",
        "def read_csv_from_drive(drive, id, filename):\n",
        "  downloaded = drive.CreateFile({'id':id}) \n",
        "  downloaded.GetContentFile(filename)  \n",
        "  return pd.read_csv(filename)\n",
        "\n",
        "drive = connect_to_drive()  # utilización de la función de apertura de archivos desde drive\n",
        "df_submissions_0 = read_csv_from_drive(drive, '1oqeKaq164fYieUs6WODv53tF4hl7QY9N', 'df_submissions_python.csv') # el 2° parámetro es el id del archivo (terminación del link en drive)\n",
        "\n",
        "# 1oqeKaq164fYieUs6WODv53tF4hl7QY9N\n",
        "# [Fuente: https://colab.research.google.com/drive/1bPwYa_uumNJ7N6NazqSwLr-8dmiCaIj8]\n"
      ],
      "id": "UkxmMLx-Ug1M",
      "execution_count": null,
      "outputs": []
    },
    {
      "cell_type": "markdown",
      "metadata": {
        "id": "vzKtcQ9ZmDFS"
      },
      "source": [
        "# GENERACIÓN DE DF "
      ],
      "id": "vzKtcQ9ZmDFS"
    },
    {
      "cell_type": "markdown",
      "metadata": {
        "id": "CEpmdp5Rma_V"
      },
      "source": [
        "## Limpieza y filtrado"
      ],
      "id": "CEpmdp5Rma_V"
    },
    {
      "cell_type": "code",
      "metadata": {
        "id": "tGBlMiVgma_z"
      },
      "source": [
        "# Corrección de nombres\n",
        "\n",
        "df_submissions_0[\"exercise_name\"] = np.where(df_submissions_0[\"exercise_name\"] == 'Más booleanos', 'El retorno del booleano' , df_submissions_0[\"exercise_name\"])\n",
        "df_submissions_0[\"exercise_name\"] = np.where(df_submissions_0[\"exercise_name\"] == 'PIenso que así es más fácil', 'Pienso que así es más fácil', df_submissions_0[\"exercise_name\"])\n",
        "\n",
        "# Eliminamos \"Calefones\": \n",
        "df_submissions_0 = df_submissions_0[df_submissions_0[\"exercise_name\"] != \"Calefones\"]\n",
        "\n",
        "_orden_ejer = {\"No tan distintos\": 1, \"Funciones, declaración\": 2, \"Funciones, uso\": 3, \"Probando funciones\": 4, \"Haciendo cuentas\": 5, \"Poniendo topes\": 6, \"¿Es par?\": 7, \"Libros de la buena memoria\": 8, \"Booleanos\": 9, \"Palabras, sólo palabras\": 10, \"Operando strings\": 11, \"¡GRITAR!\": 12, \"¿Y qué tal si...?\":13, \"¿De qué signo sos?\": 14, \"El retorno del booleano\": 15, \"Los premios\": 16, \"Tipos de datos\": 17, \"Datos de todo tipo\": 18, \n",
        "        \"Comprando Hardware\": 19, \"¿Me conviene?\": 20, \"Triangulos\": 21, \"Cuadrados\": 22, \"¿Está afinado?\": 23, \"¿Está cerca?\": 24, \"Cartelitos\": 25, \"Más Cartelitos\": 26, \"Cartelitos óptimos\": 27, \"Cara o ceca\": 28, \"¡Envido!\": 29, \"¡Quiero retruco!\": 30, \"¡Quiero vale cuatro!\": 31,\n",
        "        \"¿Y el tablero?\": 32, \"Impresión por pantalla\": 33, \"Martin Fierro\": 34, \"¿Y los procedimientos?\": 35, \"¿Y el program?\": 36, \"Conversiones\": 37, \"El círculo de la vida\": 38, \"Pienso que así es más fácil\": 39, \"Esto no tiene valor\": 40, \"Variables globales\": 41, \"Volviéndonos ricos\": 42, \"¿Y esto cuánto vale?\": 43}\n",
        "\n",
        "# Mapeo del nombre de los ejercicios con su correspondiente orden dentro de la guía:\n",
        "df_submissions_0[\"exercise_new_id\"] = df_submissions_0[\"exercise_name\"].map(_orden_ejer)\n",
        "df_submissions_0[\"exercise_new_id\"] = df_submissions_0[\"exercise_new_id\"].apply(int)\n",
        "\n",
        "# Eliminamos la columna del viejo id ya que no sera utilizada de aqui en adelante\n",
        "df_submissions_0 = df_submissions_0.drop(\"exercise_eid\", axis = 1)\n",
        "\n",
        "# Eliminamos las columnas que no tienen datos\n",
        "df_submissions_0 = df_submissions_0.drop(\"feedback\", axis = 1)\n",
        "\n",
        "# Pasamos la fecha a un formato datetime\n",
        "df_submissions_0[\"submission_created_at\"] = pd.to_datetime(df_submissions_0['submission_created_at'])\n",
        "\n",
        "# Reemplazamos las listas vacías en test_results por NaN's\n",
        "df_submissions_0[\"test_results\"] = df_submissions_0.test_results.replace(\"[]\", np.nan)\n",
        "\n",
        "# Corregimos un outlier (failed que no compilaba y debería ser errored) a partir de result\n",
        "df_submissions_0[\"submission_status\"] = np.where((df_submissions_0.submission_status == \"failed\") & (df_submissions_0.result.notna()) , \"errored\", df_submissions_0.submission_status)\n",
        "\n",
        "# Se filtran (excluyen por el momento) las pruebas: \n",
        "df_submissions = df_submissions_0[df_submissions_0[\"sid\"] != -1]\n",
        "\n",
        "# Se filtran (excluyen por el momento) status pending y aborted:\n",
        "df_submissions = df_submissions[~df_submissions[\"submission_status\"].isin([\"pending\", \"aborted\"])]\n",
        "\n",
        "# Se filtran a estudiantes que tuvieron un único envío o son inválidos (por definición o porque su período de trabajo es mayor a un cuatrimestre):\n",
        "df_submissions = df_submissions[~df_submissions[\"student_uid\"].isin([75, 142, 361, 97, -1])]\n",
        "\n",
        "# Se filtran ejercicios que fueron modificados y resueltos, en definitiva, por muy pocos estudiantes\n",
        "df_submissions = df_submissions[df_submissions[\"exercise_new_id\"] != 7]\n",
        "\n",
        "# Obtenemos el periodo al que pertenecen l@s estudiantes para poder identificar los cursos: \n",
        "    # Creamos una columna que sólo indique el año: \n",
        "df_submissions[\"año\"] = df_submissions[\"submission_created_at\"].dt.year\n",
        "\n",
        "    # Creamos una columna que sólo indique el cuatrimestre: \n",
        "df_submissions[\"cuatrimestre\"] = np.where(df_submissions[\"submission_created_at\"].dt.month.isin([ 5,  6,  7, 8]), \"2 cuatr.\",\"3 cuatr.\")\n",
        "\n",
        "    # Creamos una columna que sólo indique el día:\n",
        "dias = {0: \"1-Lunes\", 1: \"2-Martes\", 2: \"3-Miércoles\", 3: \"4-Jueves\", 4: \"5-Viernes\", 5: \"6-Sábado\", 6: \"7-Domingo\"}\n",
        "df_submissions[\"dia\"] = df_submissions[\"submission_created_at\"].dt.dayofweek\n",
        "df_submissions[\"dia\"].replace(dias, inplace =True)\n"
      ],
      "id": "tGBlMiVgma_z",
      "execution_count": null,
      "outputs": []
    },
    {
      "cell_type": "markdown",
      "metadata": {
        "id": "5CJDLNT5ma_2"
      },
      "source": [
        "## Cálculo de tiempos"
      ],
      "id": "5CJDLNT5ma_2"
    },
    {
      "cell_type": "code",
      "metadata": {
        "colab": {
          "base_uri": "https://localhost:8080/",
          "height": 424
        },
        "id": "4vMxf6Qhma_4",
        "outputId": "1665c0a9-0fd6-4029-9d84-e1a453c4e767"
      },
      "source": [
        "# Tiempo (en segundos) entre cada envío por estudiante:\n",
        "\n",
        "intervalos_tiempo_por_estudiante = df_submissions.sort_values(by=[\"student_uid\", \"submission_created_at\"]).groupby('student_uid').submission_created_at.diff().dt.total_seconds().round().reset_index()\n",
        "intervalos_tiempo_por_estudiante[\"student_uid\"] =  df_submissions.sort_values(\"student_uid\").student_uid.reset_index(drop=True)\n",
        "intervalos_tiempo_por_estudiante = intervalos_tiempo_por_estudiante.rename(columns = {\"submission_created_at\": \"tiempo_entre_envios\"}).drop(columns = \"index\")\n",
        "intervalos_tiempo_por_estudiante = intervalos_tiempo_por_estudiante[intervalos_tiempo_por_estudiante.tiempo_entre_envios.between(3, 1200)]\n",
        "\n",
        "# Tiempo total\n",
        "tiempo_recorrido_por_estudiante = intervalos_tiempo_por_estudiante.groupby(\"student_uid\").tiempo_entre_envios.sum()\n",
        "\n",
        "# Tiempo (en segundos) entre cada envío por estudiante y ejercicio:\n",
        "tiempo_entre_envios_por_ejercicio = df_submissions.sort_values(by=[\"student_uid\", \"exercise_new_id\", \"submission_created_at\"]).groupby(by=['student_uid', \"exercise_new_id\"]).submission_created_at.diff().dt.total_seconds().apply(np.ceil).reset_index()\n",
        "\n",
        "# Agregamos la información del estudiante y del ejercicio en cuestión\n",
        "tiempo_entre_envios_por_ejercicio = tiempo_entre_envios_por_ejercicio.fillna(0).rename(columns = {\"submission_created_at\": \"tiempo_entre_intentos\"}).drop(columns = [\"index\"])\n",
        "tiempo_entre_envios_por_ejercicio[[\"student_uid\", \"exercise_new_id\", \"submission_created_at\"]] = df_submissions.sort_values(by=[\"student_uid\", \"exercise_new_id\", \"submission_created_at\"]).reset_index()[[\"student_uid\", \"exercise_new_id\", \"submission_created_at\"]]\n",
        "\n",
        "tiempo_entre_envios_por_ejercicio[\"tiempo_intento_modificado\"] = tiempo_entre_envios_por_ejercicio.tiempo_entre_intentos.apply(lambda row: 0 if row > 1200 else row)\n",
        "\n",
        "# Nuevo tiempo total (en segundos) para cada estudiante en cada ejercicio\n",
        "tiempo_total_por_ejercicio_2 = tiempo_entre_envios_por_ejercicio.groupby(by=['student_uid', \"exercise_new_id\"]).agg({\"tiempo_intento_modificado\": \"sum\", \"submission_created_at\": \"nunique\"}).reset_index()\n",
        "tiempo_total_por_ejercicio_2.rename(columns = {\"tiempo_intento_modificado\": \"tiempo_total\", \"submission_created_at\": \"intentos_totales\"}, inplace = True)\n",
        "tiempo_total_por_ejercicio_2"
      ],
      "id": "4vMxf6Qhma_4",
      "execution_count": null,
      "outputs": [
        {
          "output_type": "execute_result",
          "data": {
            "text/html": [
              "<div>\n",
              "<style scoped>\n",
              "    .dataframe tbody tr th:only-of-type {\n",
              "        vertical-align: middle;\n",
              "    }\n",
              "\n",
              "    .dataframe tbody tr th {\n",
              "        vertical-align: top;\n",
              "    }\n",
              "\n",
              "    .dataframe thead th {\n",
              "        text-align: right;\n",
              "    }\n",
              "</style>\n",
              "<table border=\"1\" class=\"dataframe\">\n",
              "  <thead>\n",
              "    <tr style=\"text-align: right;\">\n",
              "      <th></th>\n",
              "      <th>student_uid</th>\n",
              "      <th>exercise_new_id</th>\n",
              "      <th>tiempo_total</th>\n",
              "      <th>intentos_totales</th>\n",
              "    </tr>\n",
              "  </thead>\n",
              "  <tbody>\n",
              "    <tr>\n",
              "      <th>0</th>\n",
              "      <td>76</td>\n",
              "      <td>2</td>\n",
              "      <td>0.0</td>\n",
              "      <td>1</td>\n",
              "    </tr>\n",
              "    <tr>\n",
              "      <th>1</th>\n",
              "      <td>76</td>\n",
              "      <td>3</td>\n",
              "      <td>0.0</td>\n",
              "      <td>2</td>\n",
              "    </tr>\n",
              "    <tr>\n",
              "      <th>2</th>\n",
              "      <td>76</td>\n",
              "      <td>6</td>\n",
              "      <td>0.0</td>\n",
              "      <td>1</td>\n",
              "    </tr>\n",
              "    <tr>\n",
              "      <th>3</th>\n",
              "      <td>76</td>\n",
              "      <td>9</td>\n",
              "      <td>915.0</td>\n",
              "      <td>5</td>\n",
              "    </tr>\n",
              "    <tr>\n",
              "      <th>4</th>\n",
              "      <td>76</td>\n",
              "      <td>10</td>\n",
              "      <td>20.0</td>\n",
              "      <td>2</td>\n",
              "    </tr>\n",
              "    <tr>\n",
              "      <th>...</th>\n",
              "      <td>...</td>\n",
              "      <td>...</td>\n",
              "      <td>...</td>\n",
              "      <td>...</td>\n",
              "    </tr>\n",
              "    <tr>\n",
              "      <th>7810</th>\n",
              "      <td>359</td>\n",
              "      <td>43</td>\n",
              "      <td>0.0</td>\n",
              "      <td>1</td>\n",
              "    </tr>\n",
              "    <tr>\n",
              "      <th>7811</th>\n",
              "      <td>362</td>\n",
              "      <td>21</td>\n",
              "      <td>87.0</td>\n",
              "      <td>3</td>\n",
              "    </tr>\n",
              "    <tr>\n",
              "      <th>7812</th>\n",
              "      <td>363</td>\n",
              "      <td>25</td>\n",
              "      <td>61.0</td>\n",
              "      <td>3</td>\n",
              "    </tr>\n",
              "    <tr>\n",
              "      <th>7813</th>\n",
              "      <td>363</td>\n",
              "      <td>26</td>\n",
              "      <td>151.0</td>\n",
              "      <td>4</td>\n",
              "    </tr>\n",
              "    <tr>\n",
              "      <th>7814</th>\n",
              "      <td>363</td>\n",
              "      <td>27</td>\n",
              "      <td>643.0</td>\n",
              "      <td>12</td>\n",
              "    </tr>\n",
              "  </tbody>\n",
              "</table>\n",
              "<p>7815 rows × 4 columns</p>\n",
              "</div>"
            ],
            "text/plain": [
              "      student_uid  exercise_new_id  tiempo_total  intentos_totales\n",
              "0              76                2           0.0                 1\n",
              "1              76                3           0.0                 2\n",
              "2              76                6           0.0                 1\n",
              "3              76                9         915.0                 5\n",
              "4              76               10          20.0                 2\n",
              "...           ...              ...           ...               ...\n",
              "7810          359               43           0.0                 1\n",
              "7811          362               21          87.0                 3\n",
              "7812          363               25          61.0                 3\n",
              "7813          363               26         151.0                 4\n",
              "7814          363               27         643.0                12\n",
              "\n",
              "[7815 rows x 4 columns]"
            ]
          },
          "metadata": {},
          "execution_count": 5
        }
      ]
    },
    {
      "cell_type": "markdown",
      "metadata": {
        "id": "nVRXPHjBma_8"
      },
      "source": [
        "## Construcción de nuevo df con métricas por estudiante"
      ],
      "id": "nVRXPHjBma_8"
    },
    {
      "cell_type": "code",
      "metadata": {
        "colab": {
          "base_uri": "https://localhost:8080/",
          "height": 444
        },
        "id": "mXLaOCl6ma_-",
        "outputId": "fd394cac-431d-47f1-a891-5e9a53850dbc"
      },
      "source": [
        "# Por cada estudiante obtenemos la cantidad de ejercicios con status passed o passed_with_warnings que realizó:\n",
        "#filtro_status = submissions_correctas(df_submissions)\n",
        "filtro_status = df_submissions\n",
        "group_ejer = filtro_status[[\"student_uid\", \"exercise_new_id\"]]\n",
        "group_ejer = group_ejer.groupby([\"student_uid\"]).nunique().rename(columns = {'exercise_new_id': 'ejercicios_resueltos'})\n",
        "\n",
        "# Creamos la columna de desercion:\n",
        "# Regla de decision: \n",
        "criterio_por_ejercicios_resueltos = group_ejer[\"ejercicios_resueltos\"].quantile(0.25)\n",
        "#criterio_por_ejercicios_resueltos = 30\n",
        "\n",
        "df_cond_ejer = group_ejer.copy()\n",
        "df_cond_ejer[\"cond_cant_ejer_resueltos\"] = np.where(df_cond_ejer[\"ejercicios_resueltos\"] < criterio_por_ejercicios_resueltos, 1, 0)\n",
        "\n",
        "df_cond_ejer = df_cond_ejer.reset_index() \n",
        "\n",
        "# -------\n",
        "\n",
        "filtro_fallidos = submissions_incorrectas(df_submissions)\n",
        "\n",
        "# Envíos fallidos por estudiante, por guía/lección, y por ejercicio.\n",
        "\n",
        "df_fallidos = filtro_fallidos.groupby(['student_uid','exercise_new_id'])['sid'].count().reset_index().rename(columns = {'sid': 'intentos_fallidos_max_ejer'}).sort_values([\"student_uid\", \"intentos_fallidos_max_ejer\"], ascending = [True, False])\n",
        "\n",
        "# Regla de decisión: \n",
        "criterio_por_intentos_fallidos = df_fallidos.sort_values([\"student_uid\", \"intentos_fallidos_max_ejer\"], ascending = [True, False]).drop_duplicates(\"student_uid\")[\"intentos_fallidos_max_ejer\"].quantile(0.75)\n",
        "\n",
        "# Creamos la columna de deserción:\n",
        "df_cond_fallos_ejer = df_fallidos.copy()[[\"student_uid\", \"intentos_fallidos_max_ejer\"]]\n",
        "df_cond_fallos_ejer[\"cond_fallos_ejer\"] = np.where(df_fallidos[\"intentos_fallidos_max_ejer\"] > criterio_por_intentos_fallidos, 1, 0)\n",
        "\n",
        "df_cond_fallos_ejer = df_cond_fallos_ejer.sort_values('intentos_fallidos_max_ejer', ascending = False).drop_duplicates('student_uid')\n",
        "\n",
        "# -------\n",
        "\n",
        "# Cantidad de ejercicios intentados (en cualquier estado) por persona\n",
        "\n",
        "group_ejer_int = df_submissions[[\"student_uid\", \"exercise_new_id\"]]\n",
        "group_ejer_int = group_ejer_int.groupby([\"student_uid\"]).nunique().rename(columns = {'exercise_new_id': 'ejercicios_totales'})\n",
        "group_ejer_int = group_ejer_int.reset_index()\n",
        "\n",
        "# -------\n",
        "\n",
        "intervalos_tiempo_por_estudiante = df_submissions.sort_values(by=[\"student_uid\", \"submission_created_at\"]).groupby('student_uid').submission_created_at.diff().dt.total_seconds().round().reset_index()\n",
        "intervalos_tiempo_por_estudiante[\"student_uid\"] = df_submissions.sort_values(\"student_uid\").student_uid.reset_index(drop=True)\n",
        "intervalos_tiempo_por_estudiante = intervalos_tiempo_por_estudiante.rename(columns = {\"submission_created_at\": \"tiempo_total_invertido\"}).drop(columns = \"index\")\n",
        "\n",
        "# Nos quedamos con los intervalos de tiempo que se hayan realizado entre 3 segundos y 20 minutos\n",
        "intervalos_tiempo_por_estudiante = intervalos_tiempo_por_estudiante[intervalos_tiempo_por_estudiante.tiempo_total_invertido.between(3, 1200)]\n",
        "df_cond_tiempo_ejer = intervalos_tiempo_por_estudiante.groupby('student_uid', as_index=False).sum()\n",
        "\n",
        "\n",
        "\n",
        "# DF con las condiciones obtenidas a partir de las metricas de deserción\n",
        "\n",
        "df_condiciones = df_cond_ejer.merge(df_cond_tiempo_ejer, on = \"student_uid\", how = \"outer\")\n",
        "df_condiciones = df_condiciones.merge(df_cond_fallos_ejer, on = \"student_uid\", how = \"outer\")\n",
        "df_condiciones = df_condiciones.merge(group_ejer_int, on = \"student_uid\", how = \"outer\")\n",
        "df_condiciones = df_condiciones.fillna(0)\n",
        "df_condiciones['ejercicios_fallidos'] = df_condiciones.ejercicios_totales - df_condiciones.ejercicios_resueltos\n",
        "\n",
        "# -------\n",
        "df_condiciones['tiempo_prom_por_ej_correcto'] = df_condiciones.tiempo_total_invertido / df_condiciones.ejercicios_resueltos\n",
        "df_condiciones['tiempo_prom_por_ejercicio'] = df_condiciones.tiempo_total_invertido / df_condiciones.ejercicios_totales\n",
        "\n",
        "# Regla de decisión: \n",
        "criterio_por_tiempo_por_ejercicio = df_condiciones[\"tiempo_prom_por_ejercicio\"].quantile(0.75)\n",
        "\n",
        "df_condiciones[\"cond_tiempo_prom_ejer\"] = np.where(df_condiciones[\"tiempo_prom_por_ejercicio\"] > criterio_por_tiempo_por_ejercicio, 1, 0)\n",
        "\n",
        "# -------\n",
        "\n",
        "intentos_totales = df_submissions.groupby('student_uid', as_index=False).sid.count().rename(columns={\"sid\":\"intentos_totales\"}) # envios totales por persona\n",
        "intentos_incorrectos = submissions_incorrectas(df_submissions).groupby('student_uid', as_index=False).sid.count().rename(columns={\"sid\":\"intentos_incorrectos\"}) # envios fallidos por persona\n",
        "intentos_correctos = submissions_correctas(df_submissions).groupby('student_uid', as_index=False).sid.count().rename(columns={\"sid\":\"intentos_correctos\"}) # envios correctos por persona\n",
        "\n",
        "# Agregamos las columnas con cantidad de intentos totales y distinguidos por estado\n",
        "df_condiciones = df_condiciones.merge(intentos_totales, on = \"student_uid\", how = \"outer\")\n",
        "df_condiciones = df_condiciones.merge(intentos_incorrectos, on = \"student_uid\", how = \"outer\")\n",
        "df_condiciones = df_condiciones.merge(intentos_correctos, on = \"student_uid\", how = \"outer\")\n",
        "\n",
        "df_condiciones = df_condiciones[[\"student_uid\", \"ejercicios_totales\", \"ejercicios_fallidos\",\"ejercicios_resueltos\", \"cond_cant_ejer_resueltos\", \"intentos_totales\",\"intentos_incorrectos\",\"intentos_correctos\", \"intentos_fallidos_max_ejer\",\"cond_fallos_ejer\",\"tiempo_total_invertido\",\"tiempo_prom_por_ej_correcto\",\"tiempo_prom_por_ejercicio\",\"cond_tiempo_prom_ejer\"]]\n",
        "df_condiciones"
      ],
      "id": "mXLaOCl6ma_-",
      "execution_count": null,
      "outputs": [
        {
          "output_type": "execute_result",
          "data": {
            "text/html": [
              "<div>\n",
              "<style scoped>\n",
              "    .dataframe tbody tr th:only-of-type {\n",
              "        vertical-align: middle;\n",
              "    }\n",
              "\n",
              "    .dataframe tbody tr th {\n",
              "        vertical-align: top;\n",
              "    }\n",
              "\n",
              "    .dataframe thead th {\n",
              "        text-align: right;\n",
              "    }\n",
              "</style>\n",
              "<table border=\"1\" class=\"dataframe\">\n",
              "  <thead>\n",
              "    <tr style=\"text-align: right;\">\n",
              "      <th></th>\n",
              "      <th>student_uid</th>\n",
              "      <th>ejercicios_totales</th>\n",
              "      <th>ejercicios_fallidos</th>\n",
              "      <th>ejercicios_resueltos</th>\n",
              "      <th>cond_cant_ejer_resueltos</th>\n",
              "      <th>intentos_totales</th>\n",
              "      <th>intentos_incorrectos</th>\n",
              "      <th>intentos_correctos</th>\n",
              "      <th>intentos_fallidos_max_ejer</th>\n",
              "      <th>cond_fallos_ejer</th>\n",
              "      <th>tiempo_total_invertido</th>\n",
              "      <th>tiempo_prom_por_ej_correcto</th>\n",
              "      <th>tiempo_prom_por_ejercicio</th>\n",
              "      <th>cond_tiempo_prom_ejer</th>\n",
              "    </tr>\n",
              "  </thead>\n",
              "  <tbody>\n",
              "    <tr>\n",
              "      <th>0</th>\n",
              "      <td>76</td>\n",
              "      <td>30</td>\n",
              "      <td>0</td>\n",
              "      <td>30</td>\n",
              "      <td>0</td>\n",
              "      <td>60</td>\n",
              "      <td>29.0</td>\n",
              "      <td>31.0</td>\n",
              "      <td>7.0</td>\n",
              "      <td>0.0</td>\n",
              "      <td>7991.0</td>\n",
              "      <td>266.366667</td>\n",
              "      <td>266.366667</td>\n",
              "      <td>0</td>\n",
              "    </tr>\n",
              "    <tr>\n",
              "      <th>1</th>\n",
              "      <td>77</td>\n",
              "      <td>33</td>\n",
              "      <td>0</td>\n",
              "      <td>33</td>\n",
              "      <td>0</td>\n",
              "      <td>122</td>\n",
              "      <td>85.0</td>\n",
              "      <td>37.0</td>\n",
              "      <td>30.0</td>\n",
              "      <td>0.0</td>\n",
              "      <td>10945.0</td>\n",
              "      <td>331.666667</td>\n",
              "      <td>331.666667</td>\n",
              "      <td>0</td>\n",
              "    </tr>\n",
              "    <tr>\n",
              "      <th>2</th>\n",
              "      <td>78</td>\n",
              "      <td>5</td>\n",
              "      <td>0</td>\n",
              "      <td>5</td>\n",
              "      <td>1</td>\n",
              "      <td>28</td>\n",
              "      <td>25.0</td>\n",
              "      <td>3.0</td>\n",
              "      <td>11.0</td>\n",
              "      <td>0.0</td>\n",
              "      <td>3247.0</td>\n",
              "      <td>649.400000</td>\n",
              "      <td>649.400000</td>\n",
              "      <td>1</td>\n",
              "    </tr>\n",
              "    <tr>\n",
              "      <th>3</th>\n",
              "      <td>79</td>\n",
              "      <td>18</td>\n",
              "      <td>0</td>\n",
              "      <td>18</td>\n",
              "      <td>1</td>\n",
              "      <td>64</td>\n",
              "      <td>47.0</td>\n",
              "      <td>17.0</td>\n",
              "      <td>10.0</td>\n",
              "      <td>0.0</td>\n",
              "      <td>4464.0</td>\n",
              "      <td>248.000000</td>\n",
              "      <td>248.000000</td>\n",
              "      <td>0</td>\n",
              "    </tr>\n",
              "    <tr>\n",
              "      <th>4</th>\n",
              "      <td>80</td>\n",
              "      <td>13</td>\n",
              "      <td>0</td>\n",
              "      <td>13</td>\n",
              "      <td>1</td>\n",
              "      <td>91</td>\n",
              "      <td>80.0</td>\n",
              "      <td>11.0</td>\n",
              "      <td>26.0</td>\n",
              "      <td>0.0</td>\n",
              "      <td>7091.0</td>\n",
              "      <td>545.461538</td>\n",
              "      <td>545.461538</td>\n",
              "      <td>0</td>\n",
              "    </tr>\n",
              "    <tr>\n",
              "      <th>...</th>\n",
              "      <td>...</td>\n",
              "      <td>...</td>\n",
              "      <td>...</td>\n",
              "      <td>...</td>\n",
              "      <td>...</td>\n",
              "      <td>...</td>\n",
              "      <td>...</td>\n",
              "      <td>...</td>\n",
              "      <td>...</td>\n",
              "      <td>...</td>\n",
              "      <td>...</td>\n",
              "      <td>...</td>\n",
              "      <td>...</td>\n",
              "      <td>...</td>\n",
              "    </tr>\n",
              "    <tr>\n",
              "      <th>276</th>\n",
              "      <td>355</td>\n",
              "      <td>8</td>\n",
              "      <td>0</td>\n",
              "      <td>8</td>\n",
              "      <td>1</td>\n",
              "      <td>15</td>\n",
              "      <td>11.0</td>\n",
              "      <td>4.0</td>\n",
              "      <td>4.0</td>\n",
              "      <td>0.0</td>\n",
              "      <td>2020.0</td>\n",
              "      <td>252.500000</td>\n",
              "      <td>252.500000</td>\n",
              "      <td>0</td>\n",
              "    </tr>\n",
              "    <tr>\n",
              "      <th>277</th>\n",
              "      <td>358</td>\n",
              "      <td>1</td>\n",
              "      <td>0</td>\n",
              "      <td>1</td>\n",
              "      <td>1</td>\n",
              "      <td>6</td>\n",
              "      <td>5.0</td>\n",
              "      <td>1.0</td>\n",
              "      <td>5.0</td>\n",
              "      <td>0.0</td>\n",
              "      <td>96.0</td>\n",
              "      <td>96.000000</td>\n",
              "      <td>96.000000</td>\n",
              "      <td>0</td>\n",
              "    </tr>\n",
              "    <tr>\n",
              "      <th>278</th>\n",
              "      <td>359</td>\n",
              "      <td>13</td>\n",
              "      <td>0</td>\n",
              "      <td>13</td>\n",
              "      <td>1</td>\n",
              "      <td>31</td>\n",
              "      <td>19.0</td>\n",
              "      <td>12.0</td>\n",
              "      <td>6.0</td>\n",
              "      <td>0.0</td>\n",
              "      <td>4322.0</td>\n",
              "      <td>332.461538</td>\n",
              "      <td>332.461538</td>\n",
              "      <td>0</td>\n",
              "    </tr>\n",
              "    <tr>\n",
              "      <th>279</th>\n",
              "      <td>362</td>\n",
              "      <td>1</td>\n",
              "      <td>0</td>\n",
              "      <td>1</td>\n",
              "      <td>1</td>\n",
              "      <td>3</td>\n",
              "      <td>3.0</td>\n",
              "      <td>NaN</td>\n",
              "      <td>3.0</td>\n",
              "      <td>0.0</td>\n",
              "      <td>87.0</td>\n",
              "      <td>87.000000</td>\n",
              "      <td>87.000000</td>\n",
              "      <td>0</td>\n",
              "    </tr>\n",
              "    <tr>\n",
              "      <th>280</th>\n",
              "      <td>363</td>\n",
              "      <td>3</td>\n",
              "      <td>0</td>\n",
              "      <td>3</td>\n",
              "      <td>1</td>\n",
              "      <td>19</td>\n",
              "      <td>18.0</td>\n",
              "      <td>1.0</td>\n",
              "      <td>12.0</td>\n",
              "      <td>0.0</td>\n",
              "      <td>1753.0</td>\n",
              "      <td>584.333333</td>\n",
              "      <td>584.333333</td>\n",
              "      <td>1</td>\n",
              "    </tr>\n",
              "  </tbody>\n",
              "</table>\n",
              "<p>281 rows × 14 columns</p>\n",
              "</div>"
            ],
            "text/plain": [
              "     student_uid  ...  cond_tiempo_prom_ejer\n",
              "0             76  ...                      0\n",
              "1             77  ...                      0\n",
              "2             78  ...                      1\n",
              "3             79  ...                      0\n",
              "4             80  ...                      0\n",
              "..           ...  ...                    ...\n",
              "276          355  ...                      0\n",
              "277          358  ...                      0\n",
              "278          359  ...                      0\n",
              "279          362  ...                      0\n",
              "280          363  ...                      1\n",
              "\n",
              "[281 rows x 14 columns]"
            ]
          },
          "metadata": {},
          "execution_count": 6
        }
      ]
    },
    {
      "cell_type": "markdown",
      "metadata": {
        "id": "jEfV3Mq2mbAB"
      },
      "source": [
        "## Construcción de nuevo df con métricas por estudiante y ejercicio"
      ],
      "id": "jEfV3Mq2mbAB"
    },
    {
      "cell_type": "code",
      "metadata": {
        "colab": {
          "base_uri": "https://localhost:8080/",
          "height": 313
        },
        "id": "TSFKV9_XmbAC",
        "outputId": "78638185-c6c0-4b9b-bd6e-849ae48f8545"
      },
      "source": [
        "ultimo_estado = ordenar_y_agrupar(df_submissions).tail(1)[[\"student_uid\", \"exercise_new_id\", \"submission_status\"]]\n",
        "ultimo_estado = ultimo_estado.rename(columns={\"submission_status\": \"ultimo_estado\"})\n",
        "\n",
        "#Tablas por estudiante y ejercicio con cantidad de intentos en cada estado:\n",
        "correctos = ordenar_y_agrupar(submissions_correctas(df_submissions)).agg({\"sid\": \"count\", \"submission_created_at\": \"min\"})\n",
        "correctos = correctos.rename(columns = {\"sid\": \"intentos_correctos\", \"submission_created_at\": \"fecha_primer_correcto\"})\n",
        "\n",
        "incorrectos = ordenar_y_agrupar(submissions_incorrectas(df_submissions)).agg({\"sid\": \"count\", \"submission_created_at\": \"max\"})\n",
        "incorrectos = incorrectos.rename(columns = {\"sid\": \"intentos_incorrectos\", \"submission_created_at\": \"fecha_ultimo_incorrecto\"})\n",
        "\n",
        "estudiante_por_ejercicio = pd.concat([correctos, incorrectos], axis = 1).reset_index()\n",
        "\n",
        "#-----\n",
        "\n",
        "estudiante_por_ejercicio = pd.merge(estudiante_por_ejercicio, ultimo_estado)\n",
        "estudiante_por_ejercicio = pd.merge(estudiante_por_ejercicio, tiempo_total_por_ejercicio_2)\n",
        "\n",
        "#-----\n",
        "\n",
        "# Reordenamos las columnas\n",
        "estudiante_por_ejercicio = estudiante_por_ejercicio[[\"student_uid\", \"exercise_new_id\", \"ultimo_estado\", \"intentos_totales\", \"intentos_correctos\", \"intentos_incorrectos\", \"tiempo_total\", \"fecha_primer_correcto\", \"fecha_ultimo_incorrecto\"]]\n",
        "estudiante_por_ejercicio\n",
        "\n",
        "#-----\n",
        "\n",
        "# Agregamos columnas de condiciones para tener más info y distinguir deserción\n",
        "estudiante_por_ejercicio = pd.merge(estudiante_por_ejercicio, df_condiciones[[\"student_uid\", \"ejercicios_totales\",\"ejercicios_resueltos\", \"cond_cant_ejer_resueltos\", \"intentos_fallidos_max_ejer\"]], on = \"student_uid\", how = \"left\")\n",
        "estudiante_por_ejercicio.fillna(0, inplace = True)\n",
        "\n",
        "estudiante_por_ejercicio.head()\n"
      ],
      "id": "TSFKV9_XmbAC",
      "execution_count": null,
      "outputs": [
        {
          "output_type": "execute_result",
          "data": {
            "text/html": [
              "<div>\n",
              "<style scoped>\n",
              "    .dataframe tbody tr th:only-of-type {\n",
              "        vertical-align: middle;\n",
              "    }\n",
              "\n",
              "    .dataframe tbody tr th {\n",
              "        vertical-align: top;\n",
              "    }\n",
              "\n",
              "    .dataframe thead th {\n",
              "        text-align: right;\n",
              "    }\n",
              "</style>\n",
              "<table border=\"1\" class=\"dataframe\">\n",
              "  <thead>\n",
              "    <tr style=\"text-align: right;\">\n",
              "      <th></th>\n",
              "      <th>student_uid</th>\n",
              "      <th>exercise_new_id</th>\n",
              "      <th>ultimo_estado</th>\n",
              "      <th>intentos_totales</th>\n",
              "      <th>intentos_correctos</th>\n",
              "      <th>intentos_incorrectos</th>\n",
              "      <th>tiempo_total</th>\n",
              "      <th>fecha_primer_correcto</th>\n",
              "      <th>fecha_ultimo_incorrecto</th>\n",
              "      <th>ejercicios_totales</th>\n",
              "      <th>ejercicios_resueltos</th>\n",
              "      <th>cond_cant_ejer_resueltos</th>\n",
              "      <th>intentos_fallidos_max_ejer</th>\n",
              "    </tr>\n",
              "  </thead>\n",
              "  <tbody>\n",
              "    <tr>\n",
              "      <th>0</th>\n",
              "      <td>76</td>\n",
              "      <td>2</td>\n",
              "      <td>passed</td>\n",
              "      <td>1</td>\n",
              "      <td>1.0</td>\n",
              "      <td>0.0</td>\n",
              "      <td>0.0</td>\n",
              "      <td>2019-08-30 13:17:17.700000</td>\n",
              "      <td>0</td>\n",
              "      <td>30</td>\n",
              "      <td>30</td>\n",
              "      <td>0</td>\n",
              "      <td>7.0</td>\n",
              "    </tr>\n",
              "    <tr>\n",
              "      <th>1</th>\n",
              "      <td>76</td>\n",
              "      <td>3</td>\n",
              "      <td>passed</td>\n",
              "      <td>2</td>\n",
              "      <td>1.0</td>\n",
              "      <td>1.0</td>\n",
              "      <td>0.0</td>\n",
              "      <td>2019-09-10 20:00:32.156000</td>\n",
              "      <td>2019-08-30 13:40:26.023000</td>\n",
              "      <td>30</td>\n",
              "      <td>30</td>\n",
              "      <td>0</td>\n",
              "      <td>7.0</td>\n",
              "    </tr>\n",
              "    <tr>\n",
              "      <th>2</th>\n",
              "      <td>76</td>\n",
              "      <td>6</td>\n",
              "      <td>passed</td>\n",
              "      <td>1</td>\n",
              "      <td>1.0</td>\n",
              "      <td>0.0</td>\n",
              "      <td>0.0</td>\n",
              "      <td>2019-09-23 12:24:41.746000</td>\n",
              "      <td>0</td>\n",
              "      <td>30</td>\n",
              "      <td>30</td>\n",
              "      <td>0</td>\n",
              "      <td>7.0</td>\n",
              "    </tr>\n",
              "    <tr>\n",
              "      <th>3</th>\n",
              "      <td>76</td>\n",
              "      <td>9</td>\n",
              "      <td>passed</td>\n",
              "      <td>5</td>\n",
              "      <td>1.0</td>\n",
              "      <td>4.0</td>\n",
              "      <td>915.0</td>\n",
              "      <td>2019-09-23 13:05:45.340000</td>\n",
              "      <td>2019-09-23 13:04:41.529000</td>\n",
              "      <td>30</td>\n",
              "      <td>30</td>\n",
              "      <td>0</td>\n",
              "      <td>7.0</td>\n",
              "    </tr>\n",
              "    <tr>\n",
              "      <th>4</th>\n",
              "      <td>76</td>\n",
              "      <td>10</td>\n",
              "      <td>passed</td>\n",
              "      <td>2</td>\n",
              "      <td>1.0</td>\n",
              "      <td>1.0</td>\n",
              "      <td>20.0</td>\n",
              "      <td>2019-09-23 13:08:05.815000</td>\n",
              "      <td>2019-09-23 13:07:46.418000</td>\n",
              "      <td>30</td>\n",
              "      <td>30</td>\n",
              "      <td>0</td>\n",
              "      <td>7.0</td>\n",
              "    </tr>\n",
              "  </tbody>\n",
              "</table>\n",
              "</div>"
            ],
            "text/plain": [
              "   student_uid  ...  intentos_fallidos_max_ejer\n",
              "0           76  ...                         7.0\n",
              "1           76  ...                         7.0\n",
              "2           76  ...                         7.0\n",
              "3           76  ...                         7.0\n",
              "4           76  ...                         7.0\n",
              "\n",
              "[5 rows x 13 columns]"
            ]
          },
          "metadata": {},
          "execution_count": 7
        }
      ]
    },
    {
      "cell_type": "markdown",
      "metadata": {
        "id": "54jOL7Z1ImKs"
      },
      "source": [
        "\n",
        "\n",
        "# 1 - DF CON INFORMACIÓN DE CADA EJERCICIO POR ESTUDIANTE"
      ],
      "id": "54jOL7Z1ImKs"
    },
    {
      "cell_type": "markdown",
      "metadata": {
        "id": "-DsywqfD2UYs"
      },
      "source": [
        "Generamos un nuevo dataframe con las mismas métricas que teníamos, pero ahora \"por estudiante y por ejercicio\".\n",
        "\n",
        "Es decir, tendremos variables que indiquen:\n",
        "- el tiempo invertido por cada ejercicio, y\n",
        "- la cantidad de intentos fallidos para cada ejercicio."
      ],
      "id": "-DsywqfD2UYs"
    },
    {
      "cell_type": "code",
      "metadata": {
        "colab": {
          "base_uri": "https://localhost:8080/",
          "height": 313
        },
        "id": "YDfaJpJUIhWU",
        "cellView": "form",
        "outputId": "a4012ede-351d-4019-ec90-be70ba95fd48"
      },
      "source": [
        "#@title\n",
        "estudiante_por_ejercicio.head()"
      ],
      "id": "YDfaJpJUIhWU",
      "execution_count": null,
      "outputs": [
        {
          "output_type": "execute_result",
          "data": {
            "text/html": [
              "<div>\n",
              "<style scoped>\n",
              "    .dataframe tbody tr th:only-of-type {\n",
              "        vertical-align: middle;\n",
              "    }\n",
              "\n",
              "    .dataframe tbody tr th {\n",
              "        vertical-align: top;\n",
              "    }\n",
              "\n",
              "    .dataframe thead th {\n",
              "        text-align: right;\n",
              "    }\n",
              "</style>\n",
              "<table border=\"1\" class=\"dataframe\">\n",
              "  <thead>\n",
              "    <tr style=\"text-align: right;\">\n",
              "      <th></th>\n",
              "      <th>student_uid</th>\n",
              "      <th>exercise_new_id</th>\n",
              "      <th>ultimo_estado</th>\n",
              "      <th>intentos_totales</th>\n",
              "      <th>intentos_correctos</th>\n",
              "      <th>intentos_incorrectos</th>\n",
              "      <th>tiempo_total</th>\n",
              "      <th>fecha_primer_correcto</th>\n",
              "      <th>fecha_ultimo_incorrecto</th>\n",
              "      <th>ejercicios_totales</th>\n",
              "      <th>ejercicios_resueltos</th>\n",
              "      <th>cond_cant_ejer_resueltos</th>\n",
              "      <th>intentos_fallidos_max_ejer</th>\n",
              "    </tr>\n",
              "  </thead>\n",
              "  <tbody>\n",
              "    <tr>\n",
              "      <th>0</th>\n",
              "      <td>76</td>\n",
              "      <td>2</td>\n",
              "      <td>passed</td>\n",
              "      <td>1</td>\n",
              "      <td>1.0</td>\n",
              "      <td>0.0</td>\n",
              "      <td>0.0</td>\n",
              "      <td>2019-08-30 13:17:17.700000</td>\n",
              "      <td>0</td>\n",
              "      <td>30</td>\n",
              "      <td>30</td>\n",
              "      <td>0</td>\n",
              "      <td>7.0</td>\n",
              "    </tr>\n",
              "    <tr>\n",
              "      <th>1</th>\n",
              "      <td>76</td>\n",
              "      <td>3</td>\n",
              "      <td>passed</td>\n",
              "      <td>2</td>\n",
              "      <td>1.0</td>\n",
              "      <td>1.0</td>\n",
              "      <td>0.0</td>\n",
              "      <td>2019-09-10 20:00:32.156000</td>\n",
              "      <td>2019-08-30 13:40:26.023000</td>\n",
              "      <td>30</td>\n",
              "      <td>30</td>\n",
              "      <td>0</td>\n",
              "      <td>7.0</td>\n",
              "    </tr>\n",
              "    <tr>\n",
              "      <th>2</th>\n",
              "      <td>76</td>\n",
              "      <td>6</td>\n",
              "      <td>passed</td>\n",
              "      <td>1</td>\n",
              "      <td>1.0</td>\n",
              "      <td>0.0</td>\n",
              "      <td>0.0</td>\n",
              "      <td>2019-09-23 12:24:41.746000</td>\n",
              "      <td>0</td>\n",
              "      <td>30</td>\n",
              "      <td>30</td>\n",
              "      <td>0</td>\n",
              "      <td>7.0</td>\n",
              "    </tr>\n",
              "    <tr>\n",
              "      <th>3</th>\n",
              "      <td>76</td>\n",
              "      <td>9</td>\n",
              "      <td>passed</td>\n",
              "      <td>5</td>\n",
              "      <td>1.0</td>\n",
              "      <td>4.0</td>\n",
              "      <td>915.0</td>\n",
              "      <td>2019-09-23 13:05:45.340000</td>\n",
              "      <td>2019-09-23 13:04:41.529000</td>\n",
              "      <td>30</td>\n",
              "      <td>30</td>\n",
              "      <td>0</td>\n",
              "      <td>7.0</td>\n",
              "    </tr>\n",
              "    <tr>\n",
              "      <th>4</th>\n",
              "      <td>76</td>\n",
              "      <td>10</td>\n",
              "      <td>passed</td>\n",
              "      <td>2</td>\n",
              "      <td>1.0</td>\n",
              "      <td>1.0</td>\n",
              "      <td>20.0</td>\n",
              "      <td>2019-09-23 13:08:05.815000</td>\n",
              "      <td>2019-09-23 13:07:46.418000</td>\n",
              "      <td>30</td>\n",
              "      <td>30</td>\n",
              "      <td>0</td>\n",
              "      <td>7.0</td>\n",
              "    </tr>\n",
              "  </tbody>\n",
              "</table>\n",
              "</div>"
            ],
            "text/plain": [
              "   student_uid  ...  intentos_fallidos_max_ejer\n",
              "0           76  ...                         7.0\n",
              "1           76  ...                         7.0\n",
              "2           76  ...                         7.0\n",
              "3           76  ...                         7.0\n",
              "4           76  ...                         7.0\n",
              "\n",
              "[5 rows x 13 columns]"
            ]
          },
          "metadata": {},
          "execution_count": 35
        }
      ]
    },
    {
      "cell_type": "markdown",
      "metadata": {
        "id": "PdOC28Ni9vjW"
      },
      "source": [
        "# 2- ANALISIS PARA DETECTAR EJERCICIOS DIFÍCILES\n",
        "\n",
        "Objetivo: Seleccionar aquellas variables \"con información por ejercicio\", que den mejores predicciones de estudiantes desertores.\n"
      ],
      "id": "PdOC28Ni9vjW"
    },
    {
      "cell_type": "markdown",
      "metadata": {
        "id": "hbgD4Sge0Etk"
      },
      "source": [
        "### Análisis 1- Cuánta gente llegó a cada ejercicio como máximo"
      ],
      "id": "hbgD4Sge0Etk"
    },
    {
      "cell_type": "markdown",
      "metadata": {
        "id": "oTFAcGpOxxai"
      },
      "source": [
        "En el gráfico y tabla que se encuentran a continuación, vemos cuánta gente llegó a cada ejercicio como máximo y no pudo continuar resolviendo satisfactoriamente los siguientes. "
      ],
      "id": "oTFAcGpOxxai"
    },
    {
      "cell_type": "code",
      "metadata": {
        "id": "ffNszKkT9vjX",
        "cellView": "form"
      },
      "source": [
        "#@title\n",
        "# Para ver la cantidad de estudiantes que llegaron como máximo, a cada ejercicio.\n",
        "\n",
        "ejercicios_alcanzados = estudiante_por_ejercicio.groupby(\"student_uid\").exercise_new_id.max().value_counts().reset_index()\n",
        "ejercicios_alcanzados.rename(columns= {\"exercise_new_id\": \"estudiantes\", \"index\": \"exercise_new_id\"}, inplace = True)"
      ],
      "id": "ffNszKkT9vjX",
      "execution_count": null,
      "outputs": []
    },
    {
      "cell_type": "code",
      "metadata": {
        "id": "KRn-cbo1nh9e",
        "colab": {
          "base_uri": "https://localhost:8080/",
          "height": 357
        },
        "cellView": "form",
        "outputId": "2c8404f8-0f27-44c4-e2f7-d3de420d70f4"
      },
      "source": [
        "#@title\n",
        "ejercicios_alcanzados.sort_values(\"exercise_new_id\").plot.bar(x = \"exercise_new_id\", y = \"estudiantes\", figsize = (10, 5) )"
      ],
      "id": "KRn-cbo1nh9e",
      "execution_count": null,
      "outputs": [
        {
          "output_type": "execute_result",
          "data": {
            "text/plain": [
              "<matplotlib.axes._subplots.AxesSubplot at 0x7fc45cc57390>"
            ]
          },
          "metadata": {},
          "execution_count": 40
        },
        {
          "output_type": "display_data",
          "data": {
            "image/png": "[encoded data removed]",
            "text/plain": [
              "<Figure size 720x360 with 1 Axes>"
            ]
          },
          "metadata": {
            "needs_background": "light"
          }
        }
      ]
    },
    {
      "cell_type": "code",
      "metadata": {
        "colab": {
          "base_uri": "https://localhost:8080/"
        },
        "id": "hpk7FicTPIEe",
        "outputId": "9df58c9a-4eb6-4f7c-ea39-4a402ae16e69"
      },
      "source": [
        "estudiante_por_ejercicio.groupby(\"student_uid\").exercise_new_id.max().value_counts().head(10)"
      ],
      "id": "hpk7FicTPIEe",
      "execution_count": null,
      "outputs": [
        {
          "output_type": "execute_result",
          "data": {
            "text/plain": [
              "43    198\n",
              "9       8\n",
              "3       6\n",
              "10      6\n",
              "37      5\n",
              "27      5\n",
              "20      4\n",
              "6       4\n",
              "11      4\n",
              "12      4\n",
              "Name: exercise_new_id, dtype: int64"
            ]
          },
          "metadata": {},
          "execution_count": 39
        }
      ]
    },
    {
      "cell_type": "markdown",
      "metadata": {
        "id": "rCcXJmRx_-Cz"
      },
      "source": [
        "* Sin considerar el n° 43 (final del recorrido), los picos indicarían aquellos ejercicios \"difíciles\" que dejaron a más gente en el camino.\n",
        "\n",
        "* Recordar que no están todos los ejercicios listados, ya que fueron descartados los de consola."
      ],
      "id": "rCcXJmRx_-Cz"
    },
    {
      "cell_type": "markdown",
      "metadata": {
        "id": "PLoBwPsE0vUg"
      },
      "source": [
        "### Análisis 2- Relación entre resoluciones correctas e intentos fallidos, promedio por persona [para cada ejercicio]."
      ],
      "id": "PLoBwPsE0vUg"
    },
    {
      "cell_type": "code",
      "metadata": {
        "id": "XrkdP-7H9vjZ",
        "colab": {
          "base_uri": "https://localhost:8080/",
          "height": 300
        },
        "outputId": "6bd21bd6-1b19-40c6-9a07-556085afa4f9"
      },
      "source": [
        "# Gráfico de dispersión de los ejercicios, considerando para cada ejercicio el par ordenado:\n",
        "#  cantidad de intentos incorrectos promedio por ejercicio \n",
        "#  y cantidad de resoluciones correctas (ya sean passed o passed with warning) por ejercicio\n",
        "\n",
        "info_ejercicios = pd.merge(estudiante_por_ejercicio.groupby(\"exercise_new_id\").agg({\"intentos_incorrectos\":'sum', \"student_uid\": \"nunique\"}).reset_index().rename(columns={\"student_uid\": \"estudiantes\"}), estudiante_por_ejercicio[(estudiante_por_ejercicio.ultimo_estado == \"passed\") | (estudiante_por_ejercicio.ultimo_estado == \"passed_with_warnings\")].groupby('exercise_new_id').student_uid.nunique().reset_index().rename(columns={\"student_uid\": \"resoluciones_correctas\"}))\n",
        "info_ejercicios[\"incorrectos_promedio\"] = info_ejercicios.intentos_incorrectos / info_ejercicios.estudiantes\n",
        "info_ejercicios.plot.scatter(y = \"resoluciones_correctas\", x = \"incorrectos_promedio\")"
      ],
      "id": "XrkdP-7H9vjZ",
      "execution_count": null,
      "outputs": [
        {
          "output_type": "execute_result",
          "data": {
            "text/plain": [
              "<matplotlib.axes._subplots.AxesSubplot at 0x7fc45f6f21d0>"
            ]
          },
          "metadata": {},
          "execution_count": 10
        },
        {
          "output_type": "display_data",
          "data": {
            "image/png": "[encoded data removed]",
            "text/plain": [
              "<Figure size 432x288 with 1 Axes>"
            ]
          },
          "metadata": {
            "needs_background": "light"
          }
        }
      ]
    },
    {
      "cell_type": "markdown",
      "metadata": {
        "id": "ahuQU1y319Sl"
      },
      "source": [
        "En el gráfico se destacan a la derecha cuatro ejercicios (n° 10, 11, 20 y 26), con gran cantidad de intentos incorrectos (mayor a 7)."
      ],
      "id": "ahuQU1y319Sl"
    },
    {
      "cell_type": "code",
      "metadata": {
        "id": "qe53TLAS9vja",
        "colab": {
          "base_uri": "https://localhost:8080/",
          "height": 175
        },
        "outputId": "75d163f8-398c-4463-c529-ed4abbee1bed"
      },
      "source": [
        "# Para identificar los cuatro ejercicio de la derecha del gráfico\n",
        "\n",
        "info_ejercicios[info_ejercicios.incorrectos_promedio > 7]"
      ],
      "id": "qe53TLAS9vja",
      "execution_count": null,
      "outputs": [
        {
          "output_type": "execute_result",
          "data": {
            "text/html": [
              "<div>\n",
              "<style scoped>\n",
              "    .dataframe tbody tr th:only-of-type {\n",
              "        vertical-align: middle;\n",
              "    }\n",
              "\n",
              "    .dataframe tbody tr th {\n",
              "        vertical-align: top;\n",
              "    }\n",
              "\n",
              "    .dataframe thead th {\n",
              "        text-align: right;\n",
              "    }\n",
              "</style>\n",
              "<table border=\"1\" class=\"dataframe\">\n",
              "  <thead>\n",
              "    <tr style=\"text-align: right;\">\n",
              "      <th></th>\n",
              "      <th>exercise_new_id</th>\n",
              "      <th>intentos_incorrectos</th>\n",
              "      <th>estudiantes</th>\n",
              "      <th>resoluciones_correctas</th>\n",
              "      <th>incorrectos_promedio</th>\n",
              "    </tr>\n",
              "  </thead>\n",
              "  <tbody>\n",
              "    <tr>\n",
              "      <th>6</th>\n",
              "      <td>10</td>\n",
              "      <td>2350.0</td>\n",
              "      <td>248</td>\n",
              "      <td>228</td>\n",
              "      <td>9.475806</td>\n",
              "    </tr>\n",
              "    <tr>\n",
              "      <th>7</th>\n",
              "      <td>11</td>\n",
              "      <td>1911.0</td>\n",
              "      <td>240</td>\n",
              "      <td>230</td>\n",
              "      <td>7.962500</td>\n",
              "    </tr>\n",
              "    <tr>\n",
              "      <th>15</th>\n",
              "      <td>20</td>\n",
              "      <td>1845.0</td>\n",
              "      <td>217</td>\n",
              "      <td>192</td>\n",
              "      <td>8.502304</td>\n",
              "    </tr>\n",
              "    <tr>\n",
              "      <th>21</th>\n",
              "      <td>26</td>\n",
              "      <td>1742.0</td>\n",
              "      <td>215</td>\n",
              "      <td>199</td>\n",
              "      <td>8.102326</td>\n",
              "    </tr>\n",
              "  </tbody>\n",
              "</table>\n",
              "</div>"
            ],
            "text/plain": [
              "    exercise_new_id  ...  incorrectos_promedio\n",
              "6                10  ...              9.475806\n",
              "7                11  ...              7.962500\n",
              "15               20  ...              8.502304\n",
              "21               26  ...              8.102326\n",
              "\n",
              "[4 rows x 5 columns]"
            ]
          },
          "metadata": {},
          "execution_count": 11
        }
      ]
    },
    {
      "cell_type": "markdown",
      "metadata": {
        "id": "eo4NLjRK0NnL"
      },
      "source": [
        "### Análisis 3- Gente que no pasó cada ejercicio"
      ],
      "id": "eo4NLjRK0NnL"
    },
    {
      "cell_type": "markdown",
      "metadata": {
        "id": "hQq44w_E1ihu"
      },
      "source": [
        "Se obtiene como la diferencia entre la gente que intentó resolver cada ejercicio, y los que lo resolvieron correctamente."
      ],
      "id": "hQq44w_E1ihu"
    },
    {
      "cell_type": "code",
      "metadata": {
        "id": "zd6E6E719vjc",
        "cellView": "form"
      },
      "source": [
        "#@title\n",
        "info_ejercicios[\"gente_que_no_paso\"] = info_ejercicios.estudiantes - info_ejercicios.resoluciones_correctas"
      ],
      "id": "zd6E6E719vjc",
      "execution_count": null,
      "outputs": []
    },
    {
      "cell_type": "code",
      "metadata": {
        "id": "6Ap5mAOP9vjd",
        "colab": {
          "base_uri": "https://localhost:8080/",
          "height": 226
        },
        "cellView": "form",
        "outputId": "5bcdc610-8802-4952-ffbf-e4b1aad5a841"
      },
      "source": [
        "#@title\n",
        "# De acá podemos sacar los ejercicios con más deserción\n",
        "\n",
        "info_ejercicios.sort_values(\"gente_que_no_paso\", ascending = False).head()"
      ],
      "id": "6Ap5mAOP9vjd",
      "execution_count": null,
      "outputs": [
        {
          "output_type": "execute_result",
          "data": {
            "text/html": [
              "<div>\n",
              "<style scoped>\n",
              "    .dataframe tbody tr th:only-of-type {\n",
              "        vertical-align: middle;\n",
              "    }\n",
              "\n",
              "    .dataframe tbody tr th {\n",
              "        vertical-align: top;\n",
              "    }\n",
              "\n",
              "    .dataframe thead th {\n",
              "        text-align: right;\n",
              "    }\n",
              "</style>\n",
              "<table border=\"1\" class=\"dataframe\">\n",
              "  <thead>\n",
              "    <tr style=\"text-align: right;\">\n",
              "      <th></th>\n",
              "      <th>exercise_new_id</th>\n",
              "      <th>intentos_incorrectos</th>\n",
              "      <th>estudiantes</th>\n",
              "      <th>resoluciones_correctas</th>\n",
              "      <th>incorrectos_promedio</th>\n",
              "      <th>gente_que_no_paso</th>\n",
              "    </tr>\n",
              "  </thead>\n",
              "  <tbody>\n",
              "    <tr>\n",
              "      <th>15</th>\n",
              "      <td>20</td>\n",
              "      <td>1845.0</td>\n",
              "      <td>217</td>\n",
              "      <td>192</td>\n",
              "      <td>8.502304</td>\n",
              "      <td>25</td>\n",
              "    </tr>\n",
              "    <tr>\n",
              "      <th>6</th>\n",
              "      <td>10</td>\n",
              "      <td>2350.0</td>\n",
              "      <td>248</td>\n",
              "      <td>228</td>\n",
              "      <td>9.475806</td>\n",
              "      <td>20</td>\n",
              "    </tr>\n",
              "    <tr>\n",
              "      <th>5</th>\n",
              "      <td>9</td>\n",
              "      <td>1019.0</td>\n",
              "      <td>260</td>\n",
              "      <td>241</td>\n",
              "      <td>3.919231</td>\n",
              "      <td>19</td>\n",
              "    </tr>\n",
              "    <tr>\n",
              "      <th>22</th>\n",
              "      <td>27</td>\n",
              "      <td>1309.0</td>\n",
              "      <td>205</td>\n",
              "      <td>186</td>\n",
              "      <td>6.385366</td>\n",
              "      <td>19</td>\n",
              "    </tr>\n",
              "    <tr>\n",
              "      <th>21</th>\n",
              "      <td>26</td>\n",
              "      <td>1742.0</td>\n",
              "      <td>215</td>\n",
              "      <td>199</td>\n",
              "      <td>8.102326</td>\n",
              "      <td>16</td>\n",
              "    </tr>\n",
              "  </tbody>\n",
              "</table>\n",
              "</div>"
            ],
            "text/plain": [
              "    exercise_new_id  ...  gente_que_no_paso\n",
              "15               20  ...                 25\n",
              "6                10  ...                 20\n",
              "5                 9  ...                 19\n",
              "22               27  ...                 19\n",
              "21               26  ...                 16\n",
              "\n",
              "[5 rows x 6 columns]"
            ]
          },
          "metadata": {},
          "execution_count": 36
        }
      ]
    },
    {
      "cell_type": "markdown",
      "metadata": {
        "id": "7BN3L7TXlzq1"
      },
      "source": [
        "# 3- ANALISIS DE LA DESERCIÓN SÓLO EN LOS EJERCICIOS DIFÍCILES.\n",
        "\n"
      ],
      "id": "7BN3L7TXlzq1"
    },
    {
      "cell_type": "markdown",
      "metadata": {
        "id": "sjgzNjbf5kq-"
      },
      "source": [
        "- En los gráficos siguientes, cada punto representa un estudiante, diferenciando con color a los desertores (rojo) de los no desertores (azules).\n",
        "\n",
        "- La variable \"proxy\" de deserción es la métrica cantidad de ejercicios resueltos (en color). Es decir, de las tres métricas que veníamos manejando: intentos fallidos, tiempo invertido en la resolución y cantidad de ejercicios resueltos, elegimos esta última como indicadora o métrica de deserción.\n",
        "\n",
        "- Las otras dos métricas: intentos incorrectos, y tiempo total invertido por estudiante, las mostramos como variables X e Y en los scatterplot.\n",
        "\n",
        "- **Pretendíamos ver si había una distición clara entre ambos grupos de estudiantes (desertores y no), de acuerdo a las variables en cuestión.**\n",
        "\n"
      ],
      "id": "sjgzNjbf5kq-"
    },
    {
      "cell_type": "code",
      "metadata": {
        "id": "Bqz48PO0pmpk",
        "colab": {
          "base_uri": "https://localhost:8080/",
          "height": 628
        },
        "outputId": "ecbddbb3-22c1-4296-c7b1-b910d00d920c"
      },
      "source": [
        "plot_scatter_grid('intentos_incorrectos', 'tiempo_total', [3, 9, 10, 11, 20])"
      ],
      "id": "Bqz48PO0pmpk",
      "execution_count": null,
      "outputs": [
        {
          "output_type": "display_data",
          "data": {
            "image/png": "[encoded data removed]",
            "text/plain": [
              "<Figure size 1440x1080 with 5 Axes>"
            ]
          },
          "metadata": {
            "needs_background": "light"
          }
        }
      ]
    },
    {
      "cell_type": "code",
      "metadata": {
        "id": "ZMREsVM8y1fo",
        "cellView": "form"
      },
      "source": [
        "#@title\n",
        "# Base con desagregación de ejercicios, por variables: intentos_incorrectos y tiempo_total.\n",
        "\n",
        "data = estudiante_por_ejercicio[estudiante_por_ejercicio.exercise_new_id.isin([1,9,10,20,3,11])][[\"student_uid\", \"cond_cant_ejer_resueltos\", \"exercise_new_id\", \"intentos_incorrectos\", \"tiempo_total\"]]\n",
        "data[\"exercise_new_id\"] = data[\"exercise_new_id\"].astype(str)\n",
        "data_por_estudiante = pd.pivot_table(data, index= [\"student_uid\", \"cond_cant_ejer_resueltos\"], columns = [\"exercise_new_id\"], fill_value=0)\n",
        "\n",
        "data_por_estudiante.columns = ['_'.join(col).strip() for col in data_por_estudiante.columns.values]\n",
        "\n",
        "data_por_estudiante = data_por_estudiante.reset_index()"
      ],
      "id": "ZMREsVM8y1fo",
      "execution_count": null,
      "outputs": []
    },
    {
      "cell_type": "code",
      "metadata": {
        "id": "mS7rWQ_S7p2b",
        "cellView": "form"
      },
      "source": [
        "#@title\n",
        "data_por_estudiante.head()"
      ],
      "id": "mS7rWQ_S7p2b",
      "execution_count": null,
      "outputs": []
    },
    {
      "cell_type": "markdown",
      "metadata": {
        "id": "5opwYz9dwYvD"
      },
      "source": [
        "* **Conclusión: En general no vemos \"gráficamente\" una \"división\" clara entre desertores y no desertores, en los ejercicios considerados \"difíciles\".**\n",
        "\n",
        "* Notar: Dentro de los análisis de ejercicios difíciles, había aparecido el n° 7. Sin embargo, no se encuentra en estos gráficos ni tablas, ya que advertimos en el proceso que tenía menos observaciones que los demás (relacionado con el cambio de nombre visto en la entrega 1). Decidimos quitarlo del análisis.\n",
        "\n",
        "* **Próximo paso**: procedemos a **generar un modelo logísitco utilizando como *features* la combinación entre las variables tiempo invertido e intentos incorrectos, con cada uno de los ejercicios seleccionados como DIFÍCILES**, para ver si de esta manera obtenemos una buena predicción de la deserción. \n",
        "\n",
        "* Este modelo servirá como \"*baseline*\" de comparación frente a otras alternativas posteriores."
      ],
      "id": "5opwYz9dwYvD"
    },
    {
      "cell_type": "markdown",
      "metadata": {
        "id": "HZHvFlsfq-vt"
      },
      "source": [
        "# 4 - FUNCIÓN LOGÍSTICA (BASELINE) PARA PREDECIR DESERCIÓN"
      ],
      "id": "HZHvFlsfq-vt"
    },
    {
      "cell_type": "markdown",
      "metadata": {
        "id": "NGgNFPEW-tgP"
      },
      "source": [
        "- Pensamos que podía ser apropiado el Modelo logístico para predecir cuál estudiante deserta, y cuál no.\n",
        "\n",
        "- Hicimos un primer aprendizaje “exploratorio” o modelo baseline utilizando sólo los ejercicios difíciles: 3, 9, 10, 11, y 20."
      ],
      "id": "NGgNFPEW-tgP"
    },
    {
      "cell_type": "code",
      "metadata": {
        "id": "svu8URhlrN6k",
        "cellView": "form"
      },
      "source": [
        "#@title\n",
        "X = data_por_estudiante.drop(columns = [\"cond_cant_ejer_resueltos\"])\n",
        "y = data_por_estudiante.cond_cant_ejer_resueltos\n",
        "\n",
        "X_train, X_test, y_train, y_test = train_test_split(X, y, test_size=0.3, random_state=0)"
      ],
      "id": "svu8URhlrN6k",
      "execution_count": null,
      "outputs": []
    },
    {
      "cell_type": "code",
      "metadata": {
        "id": "zkPmRygfrbre",
        "cellView": "form"
      },
      "source": [
        "#@title\n",
        "lr = LogisticRegression(random_state=0).fit(X_train, y_train)\n",
        "y_train_pred_lr = lr.predict(X_train)\n",
        "y_test_pred_lr = lr.predict(X_test)"
      ],
      "id": "zkPmRygfrbre",
      "execution_count": null,
      "outputs": []
    },
    {
      "cell_type": "code",
      "metadata": {
        "id": "ojAgIsr2rbri",
        "colab": {
          "base_uri": "https://localhost:8080/"
        },
        "outputId": "e2221ca7-38ba-450f-e79d-4b8d4f70845c"
      },
      "source": [
        "print(classification_report(y_train, y_train_pred_lr))"
      ],
      "id": "ojAgIsr2rbri",
      "execution_count": null,
      "outputs": [
        {
          "output_type": "stream",
          "name": "stdout",
          "text": [
            "              precision    recall  f1-score   support\n",
            "\n",
            "           0       0.81      0.92      0.86       146\n",
            "           1       0.56      0.32      0.41        47\n",
            "\n",
            "    accuracy                           0.77       193\n",
            "   macro avg       0.68      0.62      0.63       193\n",
            "weighted avg       0.75      0.77      0.75       193\n",
            "\n"
          ]
        }
      ]
    },
    {
      "cell_type": "code",
      "metadata": {
        "id": "g87WEwM8rbrl",
        "colab": {
          "base_uri": "https://localhost:8080/"
        },
        "outputId": "cdd3722e-a935-4efc-acd8-9a21248684c0"
      },
      "source": [
        "print(classification_report(y_test, y_test_pred_lr))"
      ],
      "id": "g87WEwM8rbrl",
      "execution_count": null,
      "outputs": [
        {
          "output_type": "stream",
          "name": "stdout",
          "text": [
            "              precision    recall  f1-score   support\n",
            "\n",
            "           0       0.86      0.97      0.91        65\n",
            "           1       0.82      0.47      0.60        19\n",
            "\n",
            "    accuracy                           0.86        84\n",
            "   macro avg       0.84      0.72      0.76        84\n",
            "weighted avg       0.85      0.86      0.84        84\n",
            "\n"
          ]
        }
      ]
    },
    {
      "cell_type": "markdown",
      "metadata": {
        "id": "QEEw1O90nirY"
      },
      "source": [
        "- Como se puede apreciar, no son buenas las métricas de performance obtenidas (ver recall de clase 1 = 0.47)\n"
      ],
      "id": "QEEw1O90nirY"
    },
    {
      "cell_type": "markdown",
      "metadata": {
        "id": "BkK68BiRoPz_"
      },
      "source": [
        "## Regresión Logística con SMOTE (prueba)"
      ],
      "id": "BkK68BiRoPz_"
    },
    {
      "cell_type": "markdown",
      "metadata": {
        "id": "-atvspO-sqx9"
      },
      "source": [
        "En los resultados del modelo baseline observamos un buen accuracy tanto en train como en test.\n",
        "\n",
        "Sin embargo, obtuvimos un recall bajo en ambos conjuntos para la clase 1, lo que indicaría que el modelo está prediciendo o clasificando sólo el 47% de los alumnos desertores ante la presencia de \"nuevos datos\" (ver en resultados de test).\n",
        "Esto podría ser un problema relacionado con el desbalanceo de clases, donde la 1 (desertores) está subrepresentada:"
      ],
      "id": "-atvspO-sqx9"
    },
    {
      "cell_type": "code",
      "metadata": {
        "id": "VMa9cyLx8RnZ"
      },
      "source": [
        "data_por_estudiante.cond_cant_ejer_resueltos.value_counts()"
      ],
      "id": "VMa9cyLx8RnZ",
      "execution_count": null,
      "outputs": []
    },
    {
      "cell_type": "markdown",
      "metadata": {
        "id": "gtpE9W0MtYGm"
      },
      "source": [
        "Considerando esta situación, decidimos utilizar la técnica SMOTE (Synthetic Minority Over-sampling Technique) para abordar el desbalanceo."
      ],
      "id": "gtpE9W0MtYGm"
    },
    {
      "cell_type": "code",
      "metadata": {
        "id": "4h1etZr77wlZ",
        "cellView": "form"
      },
      "source": [
        "#@title\n",
        "X = data_por_estudiante.drop(columns = [\"cond_cant_ejer_resueltos\"])\n",
        "y = data_por_estudiante[[\"cond_cant_ejer_resueltos\"]]\n",
        "\n",
        "oversample = SMOTE(random_state=0)\n",
        "X_smo, y_smo = oversample.fit_resample(X, y)\n",
        "\n",
        "X_train_smo, X_test_smo, y_train_smo, y_test_smo = train_test_split(X_smo, y_smo, test_size=0.3, random_state=0)"
      ],
      "id": "4h1etZr77wlZ",
      "execution_count": null,
      "outputs": []
    },
    {
      "cell_type": "code",
      "metadata": {
        "id": "xqnGCZog7nd7",
        "cellView": "form"
      },
      "source": [
        "#@title\n",
        "lr_smo = LogisticRegression(random_state=0).fit(X_train_smo, y_train_smo)\n",
        "y_train_pred_lr_smo = lr_smo.predict(X_train_smo)\n",
        "y_test_pred_lr_smo = lr_smo.predict(X_test_smo)"
      ],
      "id": "xqnGCZog7nd7",
      "execution_count": null,
      "outputs": []
    },
    {
      "cell_type": "code",
      "metadata": {
        "id": "Y1iKYT0LAJZw",
        "colab": {
          "base_uri": "https://localhost:8080/"
        },
        "outputId": "38eb268c-5b19-4ca1-99ee-9811c640b1a0"
      },
      "source": [
        "print(classification_report(y_train_smo, y_train_pred_lr_smo))"
      ],
      "id": "Y1iKYT0LAJZw",
      "execution_count": null,
      "outputs": [
        {
          "output_type": "stream",
          "name": "stdout",
          "text": [
            "              precision    recall  f1-score   support\n",
            "\n",
            "           0       0.87      0.76      0.81       144\n",
            "           1       0.80      0.89      0.84       151\n",
            "\n",
            "    accuracy                           0.83       295\n",
            "   macro avg       0.83      0.83      0.83       295\n",
            "weighted avg       0.83      0.83      0.83       295\n",
            "\n"
          ]
        }
      ]
    },
    {
      "cell_type": "code",
      "metadata": {
        "id": "9wP3kpxTqTC-",
        "colab": {
          "base_uri": "https://localhost:8080/"
        },
        "outputId": "26742bf0-85b1-41bb-ea0f-7e3f724de85f"
      },
      "source": [
        "print(classification_report(y_test_smo, y_test_pred_lr_smo))"
      ],
      "id": "9wP3kpxTqTC-",
      "execution_count": null,
      "outputs": [
        {
          "output_type": "stream",
          "name": "stdout",
          "text": [
            "              precision    recall  f1-score   support\n",
            "\n",
            "           0       0.78      0.75      0.76        67\n",
            "           1       0.73      0.77      0.75        60\n",
            "\n",
            "    accuracy                           0.76       127\n",
            "   macro avg       0.76      0.76      0.76       127\n",
            "weighted avg       0.76      0.76      0.76       127\n",
            "\n"
          ]
        }
      ]
    },
    {
      "cell_type": "markdown",
      "metadata": {
        "id": "cUtjyvd1BWMZ"
      },
      "source": [
        "# 5- VARIACIONES AL MODELO BASELINE"
      ],
      "id": "cUtjyvd1BWMZ"
    },
    {
      "cell_type": "markdown",
      "metadata": {
        "id": "9DhktGIjBKjr"
      },
      "source": [
        "PRUEBA CON SMOTE: \n",
        "\n",
        "- Si bien con SMOTE, mejoramos las métricas de performance del modelo baseline, decidimos no utilizarlo en los próximos modelos.\n",
        "\n",
        "- Esto se debe a que nuestro dataset tiene un importante desabalance entre las clases, y la que nos interesa es particulamente la clase minoritaria.\n",
        "\n",
        "- Preferimos trabajar con los datos tal como están en la base, para no introducir sesgos indeseados en los resultados. "
      ],
      "id": "9DhktGIjBKjr"
    },
    {
      "cell_type": "markdown",
      "metadata": {
        "id": "W46aPETCYBLs"
      },
      "source": [
        "NUEVOS MODELOS:\n",
        "\n",
        "- Para mejorar el modelo baseline se realizaron distintas selecciones/incorporaciones de variables, y las modificaciones que surgieron como pertinentes según cada caso puntual. \n",
        "\n",
        "- Se detallan a continuación los modelos, análisis y conclusiones obtenidas."
      ],
      "id": "W46aPETCYBLs"
    },
    {
      "cell_type": "markdown",
      "metadata": {
        "id": "G0TdNxZ3Z716"
      },
      "source": [
        "## Modelo 0: Regresión Logística \"Baseline retocado\"\n",
        "\n",
        "* Incluye ejercicios: [1,3,9,10,11,20] --> considerados difíciles. Se agregó el ejercicio 1 porque fue salteado por un gran porcentaje de estudiantes.\n",
        "* Imputación de NaN's en las variables tiempo invertido, e intentos fallidos (para cada ejercicio incluido) con: 0\n",
        "* Sin variable categórica (hizo/no hizo cada ejercicio incluido)"
      ],
      "id": "G0TdNxZ3Z716"
    },
    {
      "cell_type": "code",
      "metadata": {
        "id": "QY8img8UaZX9",
        "cellView": "form"
      },
      "source": [
        "#@title\n",
        "# Regresión logística para ejercicios seleccionados (como difíciles), sin columna de último estado:\n",
        "X_train_baseline, X_test_baseline, y_train_baseline, y_test_baseline, y_train_pred_lr_baseline, y_test_pred_lr_baseline = construir_regresion_logistica([1,3,9,10,11,20], 0.3, True, 0, True)"
      ],
      "id": "QY8img8UaZX9",
      "execution_count": null,
      "outputs": []
    },
    {
      "cell_type": "markdown",
      "metadata": {
        "id": "FBD4vcZobUTg"
      },
      "source": [
        "*Notar: El F1 score que viene en sklearn es la métrica de la clase 1.*"
      ],
      "id": "FBD4vcZobUTg"
    },
    {
      "cell_type": "code",
      "metadata": {
        "colab": {
          "base_uri": "https://localhost:8080/"
        },
        "id": "2PSFydTsbUTh",
        "cellView": "form",
        "outputId": "4922d977-b2d4-41cd-86e3-58ef83dfe05a"
      },
      "source": [
        "#@title\n",
        "print(\"Métricas del TRAIN para BASELINE\")\n",
        "print(classification_report(y_train_baseline, y_train_pred_lr_baseline))"
      ],
      "id": "2PSFydTsbUTh",
      "execution_count": null,
      "outputs": [
        {
          "output_type": "stream",
          "name": "stdout",
          "text": [
            "Métricas del TRAIN para BASELINE\n",
            "              precision    recall  f1-score   support\n",
            "\n",
            "           0       0.81      0.92      0.86       146\n",
            "           1       0.56      0.32      0.41        47\n",
            "\n",
            "    accuracy                           0.77       193\n",
            "   macro avg       0.68      0.62      0.63       193\n",
            "weighted avg       0.75      0.77      0.75       193\n",
            "\n"
          ]
        }
      ]
    },
    {
      "cell_type": "code",
      "metadata": {
        "colab": {
          "base_uri": "https://localhost:8080/"
        },
        "id": "LEZZCTHGbUTh",
        "cellView": "form",
        "outputId": "014c413a-dd7e-49f2-97be-d4638c137dbb"
      },
      "source": [
        "#@title\n",
        "print(\"Métricas del TEST para BASELINE\")\n",
        "print(classification_report(y_test_baseline, y_test_pred_lr_baseline))"
      ],
      "id": "LEZZCTHGbUTh",
      "execution_count": null,
      "outputs": [
        {
          "output_type": "stream",
          "name": "stdout",
          "text": [
            "Métricas del TEST para BASELINE\n",
            "              precision    recall  f1-score   support\n",
            "\n",
            "           0       0.86      0.97      0.91        65\n",
            "           1       0.82      0.47      0.60        19\n",
            "\n",
            "    accuracy                           0.86        84\n",
            "   macro avg       0.84      0.72      0.76        84\n",
            "weighted avg       0.85      0.86      0.84        84\n",
            "\n"
          ]
        }
      ]
    },
    {
      "cell_type": "markdown",
      "metadata": {
        "id": "xpo4ts_Fffu4"
      },
      "source": [
        "### **Observaciones Modelo Baseline**\n",
        "\n",
        "* Las métricas del conjunto de Test, es decir, las medidas de performance del modelo cuando utilizamos datos nuevos no empleados en el entrenamiento, nos permiten decir lo siguiente:\n",
        "\n",
        "* Recall 0.47 en clase 1 --> significa que, si fueran 100 los desertores reales, lograríamos predecir correctamente a 47 (nos quedarían 53 desertores reales fuera de la predicción). No nos parece un buen resultado.\n",
        "\n",
        "* Precision 0.82 en clase 1 --> significa que, de 100 estudiantes predichos como desertores, 82 serían efectivamente desertores. Nos parece un buen resultado.\n",
        "\n",
        "* **Creemos que para nuestro objetivo general, es más importante el recall, ya que resulta más grave que el modelo NO prediga 53 de 100 desertores reales (porque no podríamos retenerlos); a que prediga erróneamente a 18 estudiantes como desertores (y que los mismos continúen en la plataforma).**\n",
        "\n",
        "* Obtenemos buenas métricas en la clase 0 (no desertores).\n",
        "\n",
        "* Obtenemos un Accuracy de 0.86 que consideramos bueno (significa que el modelo predice correctamente el 86% de los casos de ambas clases -es decir, el porcentaje considera en conjunto: casos de la clase 0 predichos como 0, y de la clase 1 predichos como 1-).\n",
        "\n",
        "* En resumen, si bien nos interesan medidas globales como Accuracy, y el F1 score “global” combinado para ambas clases (que considera Precision y Recall al mismo tiempo); para nuestro objetivo general nos parece MUY IMPORTANTE mejorar puntualmente la métrica RECALL para la CLASE 1.\n",
        "\n",
        "* **Esto es así, porque tenemos un interés \"pedagógico” en descubrir los desertores de la plataforma MUMUKI antes que abandonen; lo que permitiría implementar alguna estrategia de retención de forma oportuna.**\n"
      ],
      "id": "xpo4ts_Fffu4"
    },
    {
      "cell_type": "markdown",
      "metadata": {
        "id": "7E-GsFkWnoP2"
      },
      "source": [
        "## Modelo 1: Regresión Logística \"Primeros 20\"\n",
        "\n",
        "* Incluye ejercicios: 1 al 20\n",
        "    \n",
        "* Imputación de NaN's en las variables tiempo invertido, e intentos fallidos (para cada ejercicio incluido) con: 0\n",
        "* Sin variable categórica (hizo/no hizo cada ejercicio incluido)\n"
      ],
      "id": "7E-GsFkWnoP2"
    },
    {
      "cell_type": "code",
      "metadata": {
        "id": "BJSFcdlAr5HG",
        "cellView": "form"
      },
      "source": [
        "#@title\n",
        "# Regresión logística\n",
        "X_train_1_20, X_test_1_20, y_train_1_20, y_test_1_20, y_train_pred_lr_1_20, y_test_pred_lr_1_20 = construir_regresion_logistica(list(range(1,21)), 0.3, True, 0, True)"
      ],
      "id": "BJSFcdlAr5HG",
      "execution_count": null,
      "outputs": []
    },
    {
      "cell_type": "code",
      "metadata": {
        "colab": {
          "base_uri": "https://localhost:8080/"
        },
        "id": "zA5RjT86r5HH",
        "cellView": "form",
        "outputId": "75813a87-fa48-465c-df83-d3f69f901ca1"
      },
      "source": [
        "#@title\n",
        "print(\"Métricas del TRAIN para primeros 20 ejercicios, SIN columna 'ultimo_estado'\")\n",
        "print(classification_report(y_train_1_20, y_train_pred_lr_1_20))"
      ],
      "id": "zA5RjT86r5HH",
      "execution_count": null,
      "outputs": [
        {
          "output_type": "stream",
          "name": "stdout",
          "text": [
            "Métricas del TRAIN para primeros 20 ejercicios, SIN columna 'ultimo_estado'\n",
            "              precision    recall  f1-score   support\n",
            "\n",
            "           0       0.95      0.95      0.95       149\n",
            "           1       0.85      0.85      0.85        46\n",
            "\n",
            "    accuracy                           0.93       195\n",
            "   macro avg       0.90      0.90      0.90       195\n",
            "weighted avg       0.93      0.93      0.93       195\n",
            "\n"
          ]
        }
      ]
    },
    {
      "cell_type": "code",
      "metadata": {
        "colab": {
          "base_uri": "https://localhost:8080/"
        },
        "id": "6WkTFqktr5HH",
        "cellView": "form",
        "outputId": "37b44353-05a2-437f-dace-2bceff7d0c57"
      },
      "source": [
        "#@title\n",
        "print(\"Métricas del TEST para primeros 20 ejercicios, SIN columna 'ultimo_estado'\")\n",
        "print(classification_report(y_test_1_20, y_test_pred_lr_1_20))"
      ],
      "id": "6WkTFqktr5HH",
      "execution_count": null,
      "outputs": [
        {
          "output_type": "stream",
          "name": "stdout",
          "text": [
            "Métricas del TEST para primeros 20 ejercicios, SIN columna 'ultimo_estado'\n",
            "              precision    recall  f1-score   support\n",
            "\n",
            "           0       0.87      0.89      0.88        62\n",
            "           1       0.67      0.64      0.65        22\n",
            "\n",
            "    accuracy                           0.82        84\n",
            "   macro avg       0.77      0.76      0.77        84\n",
            "weighted avg       0.82      0.82      0.82        84\n",
            "\n"
          ]
        }
      ]
    },
    {
      "cell_type": "markdown",
      "metadata": {
        "id": "p6WpNzsP05b4"
      },
      "source": [
        "### Comparación: baseline con modelo 1\n",
        "\n",
        "Vemos que el modelo 1 mejora el F1 score de la clase 1 en el conjunto de test (de 0.60 del baseline a 0.65 en modelo 1), debido a una mejora del RECALL de la clase 1 (lo que deseábamos, pasa de 0.47 a 0.64). Sin embargo, al mismo tiempo cae la precision de dicha clase, de 0.82 a 0.67 (consecuencia no deseada).\n",
        "\n"
      ],
      "id": "p6WpNzsP05b4"
    },
    {
      "cell_type": "markdown",
      "metadata": {
        "id": "wMkOjW7ao8zn"
      },
      "source": [
        "## Modelo 2: Regresión Logística \"Primeros 15\"\n",
        "\n",
        "* Incluye ejercicios: 1 al 15 \n",
        "* Sin variable categórica (hizo/no hizo cada ejercicio incluido)\n",
        "* Imputación de NaN's en las variables tiempo invertido, e intentos fallidos, para cada ejercicio incluido) con: 0"
      ],
      "id": "wMkOjW7ao8zn"
    },
    {
      "cell_type": "code",
      "metadata": {
        "id": "R3zv2xvRo8zn",
        "cellView": "form"
      },
      "source": [
        "#@title\n",
        "# Regresión logística para los primeros 15 ejercicios, sin columna de último estado:\n",
        "X_train_1_15, X_test_1_15, y_train_1_15, y_test_1_15, y_train_pred_lr_1_15, y_test_pred_lr_1_15 = construir_regresion_logistica(list(range(1,16)), 0.3, True, 0, True)"
      ],
      "id": "R3zv2xvRo8zn",
      "execution_count": null,
      "outputs": []
    },
    {
      "cell_type": "code",
      "metadata": {
        "colab": {
          "base_uri": "https://localhost:8080/"
        },
        "id": "JwNmXjVMo8zn",
        "cellView": "form",
        "outputId": "573bf7f8-ece0-4868-8e4e-59845a234ca8"
      },
      "source": [
        "#@title\n",
        "print(\"Métricas del TRAIN para primeros 15 ejercicios, SIN columna 'ultimo_estado'\")\n",
        "print(classification_report(y_train_1_15, y_train_pred_lr_1_15))"
      ],
      "id": "JwNmXjVMo8zn",
      "execution_count": null,
      "outputs": [
        {
          "output_type": "stream",
          "name": "stdout",
          "text": [
            "Métricas del TRAIN para primeros 15 ejercicios, SIN columna 'ultimo_estado'\n",
            "              precision    recall  f1-score   support\n",
            "\n",
            "           0       0.89      0.93      0.91       149\n",
            "           1       0.74      0.61      0.67        46\n",
            "\n",
            "    accuracy                           0.86       195\n",
            "   macro avg       0.81      0.77      0.79       195\n",
            "weighted avg       0.85      0.86      0.85       195\n",
            "\n"
          ]
        }
      ]
    },
    {
      "cell_type": "code",
      "metadata": {
        "colab": {
          "base_uri": "https://localhost:8080/"
        },
        "id": "ZvOqL7oCo8zo",
        "cellView": "form",
        "outputId": "7ca5b73c-a68b-461f-c6a5-d30a7b5cbec2"
      },
      "source": [
        "#@title\n",
        "print(\"Métricas del TEST para primeros 15 ejercicios, SIN columna 'ultimo_estado'\")\n",
        "print(classification_report(y_test_1_15, y_test_pred_lr_1_15))"
      ],
      "id": "ZvOqL7oCo8zo",
      "execution_count": null,
      "outputs": [
        {
          "output_type": "stream",
          "name": "stdout",
          "text": [
            "Métricas del TEST para primeros 15 ejercicios, SIN columna 'ultimo_estado'\n",
            "              precision    recall  f1-score   support\n",
            "\n",
            "           0       0.85      0.85      0.85        62\n",
            "           1       0.59      0.59      0.59        22\n",
            "\n",
            "    accuracy                           0.79        84\n",
            "   macro avg       0.72      0.72      0.72        84\n",
            "weighted avg       0.79      0.79      0.79        84\n",
            "\n"
          ]
        }
      ]
    },
    {
      "cell_type": "markdown",
      "metadata": {
        "id": "SfdGqGadpbnp"
      },
      "source": [
        "### Comparación: baseline, modelo 1 y modelo 2\n",
        "\n",
        "* En general, ver métricas para el conjunto de test:\n",
        "\n",
        "* Respecto al baseline, el modelo 2 muestra particularmente un mejor RECALL para la clase 1; pero caen el F1 de clase 0, 1, y por tanto su promedio, y también cae el accuracy). Es decir, en el sentido o \"interés específico deseado\" mejora, pero se pierde en los otros.\n",
        "\n",
        "* Luego, entre el modelo 1 y el 2, al bajar la cantidad de ejercicios incluidos, caen: accuracy, F1 global y F1 de la clase 1. También vemos que cae el RECALL de la clase 1, métrica más relacionada con nuestro problema principal. **Notar: también probamos con 11 ejercicios acumulados y las métricas fueron aún peores.\n",
        "\n",
        "* **En síntesis, el modelo 1 está mostrando la mejor performance hasta ahora.  Sin embargo, esto implica esperar la realización del ejercicio 20, en lugar de tener predicciones cuando los estudiantes lleguen, por ejemplo, al ejercicio 15. **\n",
        "\n",
        "* **Estamos observando un \"trade-off\" o intercambio entre una buena performance del modelo, y el tiempo de espera de resolución de ejercicios para tener las predicciones**. Es decir, incluir ejercicios con id mayores (más avanzados en el recorrido total), darían mejores métricas, pero implica esperar más tiempo para implementar medidas pedagógicas que eviten la desersión.\n",
        "\n",
        "* Notar: el recorrido total hasta ahora lo hemos \"medido\" en términos de ejericios (43 ejercicios únicos). Y estuvimos analizando contar con predicciones antes de la mitad del recorrido... Ahora nos interesa tomar también como referencia de \"recorrido\" el TIEMPO REAL EN DÍAS que implica la realización de 15 vs 20 ejercicios (u otra cantidad), para poder elegir el mejor modelo de predicción.\n",
        "\n",
        "* **Debido a este trade-off, nos preguntamos**:\n",
        "\n",
        "  - ¿cuánto tiempo promedio en días, implica esperar la resolución del ejercicio 20, respecto a la resolución del ejercicio 15, para obtener mejores predicciones de deserción? \n",
        "\n",
        "  - ¿Cuánto implica dicha espera en términos del tiempo promedio total de cursado?\n",
        "\n",
        "  - Mostramos a continuación, el análisis que responden a estas preguntas."
      ],
      "id": "SfdGqGadpbnp"
    },
    {
      "cell_type": "markdown",
      "metadata": {
        "id": "BqsOI807vdF3"
      },
      "source": [
        "### Análisis: tiempo calendario\n",
        "\n",
        "**Cohortes en nuestra base de datos, y criterios de tiempo utilizadas para definirlas:**\n",
        "\n",
        "\n",
        "**III-2019:**\n",
        "\n",
        "* Fecha minima de envio: 2019-09-04 01:29:22.351000\n",
        "* Fecha maxima de envio: 2019-12-09 13:47:44.655000\n",
        "\n",
        "**II-2020:**\n",
        "\n",
        "* Fecha minima de envio: 2020-05-04 17:34:30.088000\n",
        "* Fecha maxima de envio: 2020-08-24 23:55:25.598000\n",
        "\n",
        "**III-2020:** \n",
        "\n",
        "* Fecha minima de envio: 2020-09-01 17:28:31.949000\n",
        "* Fecha maxima de envio: 2020-11-23 21:52:17.944000"
      ],
      "id": "BqsOI807vdF3"
    },
    {
      "cell_type": "code",
      "metadata": {
        "id": "xzy2Tamez5D6",
        "cellView": "form"
      },
      "source": [
        "#@title\n",
        "# Nos quedamos con la fecha del primer envío de cada estudiante en cada ejercicio\n",
        "df_primeros_envios = df_submissions.sort_values([\"student_uid\", \"submission_created_at\"]).drop_duplicates([\"student_uid\", \"exercise_new_id\"])[[\"student_uid\",\"submission_created_at\", \"exercise_new_id\"]]\n",
        "\n",
        "# Pasamos los exercise_new_id a string para poder construir los nombres de las futuras columnas de la tabla pivot\n",
        "df_primeros_envios[\"exercise_new_id\"] = df_primeros_envios[\"exercise_new_id\"].astype(str)\n",
        "\n",
        "# Pivoteamos la información\n",
        "envios_ej_15_20 = pd.pivot(df_primeros_envios[df_primeros_envios.exercise_new_id.isin([\"15\", \"20\"])], index= [\"student_uid\"], columns = [\"exercise_new_id\"])\n",
        "\n",
        "\n",
        "envios_ej_15_20.columns = ['_'.join(col).strip() for col in envios_ej_15_20.columns.values]\n",
        "envios_ej_15_20.reset_index(inplace = True)\n",
        "\n",
        "# Agregamos una columna indicando el cuatrimestre (cohorte) al que pertenecía el estudiante\n",
        "envios_ej_15_20[\"mes_anio\"] = np.where((envios_ej_15_20.submission_created_at_15 < '2020-01-01')|(envios_ej_15_20.submission_created_at_20 < '2020-01-01' ), \"I\", np.where((envios_ej_15_20.submission_created_at_15 < '2020-08-30')|(envios_ej_15_20.submission_created_at_20 < '2020-08-30'), \"II\", \"III\"))\n",
        "\n",
        "# Agregamos la fecha de inicio y fin de cada cohorte\n",
        "envios_ej_15_20[\"inicio\"] = np.where(envios_ej_15_20.mes_anio == 'I', pd.to_datetime(\"2019,09,04\", format=\"%Y,%m,%d\"), np.where(envios_ej_15_20.mes_anio == 'II', pd.to_datetime(\"2020,05,04\", format=\"%Y,%m,%d\"), pd.to_datetime(\"2020,09,01\", format=\"%Y,%m,%d\")))\n",
        "envios_ej_15_20[\"fin\"] = np.where(envios_ej_15_20.mes_anio == 'I', pd.to_datetime(\"2019,12,09\", format=\"%Y,%m,%d\"), np.where(envios_ej_15_20.mes_anio == 'II', pd.to_datetime(\"2020,08,24\", format=\"%Y,%m,%d\"), pd.to_datetime(\"2020,11,23\", format=\"%Y,%m,%d\")))\n",
        "\n",
        "# Calculamos la cantidad de días entre el inicio y fin de cada curso\n",
        "envios_ej_15_20[\"duracion_curso\"] = (envios_ej_15_20.fin - envios_ej_15_20.inicio).dt.days\n",
        "\n",
        "# Calculamos la cantidad de días entre el inicio y la realización de cada ejercicio\n",
        "envios_ej_15_20[\"tiempo_inicio_al_15\"] = (envios_ej_15_20.submission_created_at_15 - envios_ej_15_20.inicio).dt.days\n",
        "envios_ej_15_20[\"tiempo_inicio_al_20\"] = (envios_ej_15_20.submission_created_at_20 - envios_ej_15_20.inicio).dt.days\n",
        "\n",
        "envios_ej_15_20"
      ],
      "id": "xzy2Tamez5D6",
      "execution_count": null,
      "outputs": []
    },
    {
      "cell_type": "code",
      "metadata": {
        "colab": {
          "base_uri": "https://localhost:8080/",
          "height": 355
        },
        "id": "yrEltnFu2cYY",
        "cellView": "form",
        "collapsed": true,
        "outputId": "4690fa17-b1e1-41b5-da61-1db774da1150"
      },
      "source": [
        "#@title\n",
        "# En el siguiente gráfico se ve la distribución de la fecha de inicio del ejercicio 15 entre los estudiantes\n",
        "\n",
        "envios_ej_15_20.plot.scatter(y=\"inicio\", x=\"submission_created_at_15\", figsize=(12,5))"
      ],
      "id": "yrEltnFu2cYY",
      "execution_count": null,
      "outputs": [
        {
          "output_type": "execute_result",
          "data": {
            "text/plain": [
              "<matplotlib.axes._subplots.AxesSubplot at 0x7fc45f0ca2d0>"
            ]
          },
          "metadata": {},
          "execution_count": 50
        },
        {
          "output_type": "display_data",
          "data": {
            "image/png": "[encoded data removed]",
            "text/plain": [
              "<Figure size 864x360 with 1 Axes>"
            ]
          },
          "metadata": {
            "needs_background": "light"
          }
        }
      ]
    },
    {
      "cell_type": "code",
      "metadata": {
        "colab": {
          "base_uri": "https://localhost:8080/",
          "height": 355
        },
        "id": "ZQw17vCP-npL",
        "cellView": "form",
        "collapsed": true,
        "outputId": "46bc9d33-6d58-4a25-c84d-ceb6c1962432"
      },
      "source": [
        "#@title\n",
        "# En el siguiente gráfico se ve la distribución de la fecha de inicio del ejercicio 20 entre los estudiantes\n",
        "\n",
        "envios_ej_15_20.plot.scatter(y=\"inicio\", x=\"submission_created_at_20\", figsize=(12,5))"
      ],
      "id": "ZQw17vCP-npL",
      "execution_count": null,
      "outputs": [
        {
          "output_type": "execute_result",
          "data": {
            "text/plain": [
              "<matplotlib.axes._subplots.AxesSubplot at 0x7fc45eade510>"
            ]
          },
          "metadata": {},
          "execution_count": 51
        },
        {
          "output_type": "display_data",
          "data": {
            "image/png": "[encoded data removed]",
            "text/plain": [
              "<Figure size 864x360 with 1 Axes>"
            ]
          },
          "metadata": {
            "needs_background": "light"
          }
        }
      ]
    },
    {
      "cell_type": "code",
      "metadata": {
        "id": "Xi6aoikLE6x5",
        "colab": {
          "base_uri": "https://localhost:8080/",
          "height": 166
        },
        "cellView": "form",
        "collapsed": true,
        "outputId": "819350f0-3432-4208-de89-f4227e9f74a9"
      },
      "source": [
        "#@title\n",
        "envios_ej_15_20[envios_ej_15_20.mes_anio == \"II\"].sort_values(\"submission_created_at_15\", ascending = False).head(2)"
      ],
      "id": "Xi6aoikLE6x5",
      "execution_count": null,
      "outputs": [
        {
          "output_type": "execute_result",
          "data": {
            "text/html": [
              "<div>\n",
              "<style scoped>\n",
              "    .dataframe tbody tr th:only-of-type {\n",
              "        vertical-align: middle;\n",
              "    }\n",
              "\n",
              "    .dataframe tbody tr th {\n",
              "        vertical-align: top;\n",
              "    }\n",
              "\n",
              "    .dataframe thead th {\n",
              "        text-align: right;\n",
              "    }\n",
              "</style>\n",
              "<table border=\"1\" class=\"dataframe\">\n",
              "  <thead>\n",
              "    <tr style=\"text-align: right;\">\n",
              "      <th></th>\n",
              "      <th>student_uid</th>\n",
              "      <th>submission_created_at_15</th>\n",
              "      <th>submission_created_at_20</th>\n",
              "      <th>mes_anio</th>\n",
              "      <th>inicio</th>\n",
              "      <th>fin</th>\n",
              "      <th>duracion_curso</th>\n",
              "      <th>tiempo_inicio_al_15</th>\n",
              "      <th>tiempo_inicio_al_20</th>\n",
              "    </tr>\n",
              "  </thead>\n",
              "  <tbody>\n",
              "    <tr>\n",
              "      <th>140</th>\n",
              "      <td>253</td>\n",
              "      <td>2020-08-14 23:35:47.077</td>\n",
              "      <td>2020-08-18 21:27:28.657</td>\n",
              "      <td>II</td>\n",
              "      <td>2020-05-04</td>\n",
              "      <td>2020-08-24</td>\n",
              "      <td>112</td>\n",
              "      <td>102.0</td>\n",
              "      <td>106.0</td>\n",
              "    </tr>\n",
              "    <tr>\n",
              "      <th>139</th>\n",
              "      <td>252</td>\n",
              "      <td>2020-08-09 06:09:54.837</td>\n",
              "      <td>2020-08-09 06:24:11.510</td>\n",
              "      <td>II</td>\n",
              "      <td>2020-05-04</td>\n",
              "      <td>2020-08-24</td>\n",
              "      <td>112</td>\n",
              "      <td>97.0</td>\n",
              "      <td>97.0</td>\n",
              "    </tr>\n",
              "  </tbody>\n",
              "</table>\n",
              "</div>"
            ],
            "text/plain": [
              "     student_uid  ... tiempo_inicio_al_20\n",
              "140          253  ...               106.0\n",
              "139          252  ...                97.0\n",
              "\n",
              "[2 rows x 9 columns]"
            ]
          },
          "metadata": {},
          "execution_count": 52
        }
      ]
    },
    {
      "cell_type": "code",
      "metadata": {
        "id": "nx83teYqyzbw",
        "cellView": "form"
      },
      "source": [
        "#@title\n",
        "envios_ej_15_20 = envios_ej_15_20[~envios_ej_15_20.student_uid.isin([252, 253])]"
      ],
      "id": "nx83teYqyzbw",
      "execution_count": null,
      "outputs": []
    },
    {
      "cell_type": "code",
      "metadata": {
        "id": "odCohcOXBHvL",
        "colab": {
          "base_uri": "https://localhost:8080/",
          "height": 300
        },
        "cellView": "form",
        "outputId": "3609725e-3e7d-4bfa-9d56-5ee01a5aabab"
      },
      "source": [
        "#@title\n",
        "# Descriptivas de las variables (para todos los estudiantes): \n",
        "\n",
        "# * duración total del curso (inicio = primer envío; fin = último envío -dentro del cuatrimestre calendario correspondiente-)\n",
        "\n",
        "# * tiempo transcurrido entre el inicio del curso y la resolución del ejercicio 15\n",
        "\n",
        "# * tiempo transcurrido entre el inicio del curso y la resolución del ejercicio 20\n",
        "\n",
        "envios_ej_15_20.describe()"
      ],
      "id": "odCohcOXBHvL",
      "execution_count": null,
      "outputs": [
        {
          "output_type": "execute_result",
          "data": {
            "text/html": [
              "<div>\n",
              "<style scoped>\n",
              "    .dataframe tbody tr th:only-of-type {\n",
              "        vertical-align: middle;\n",
              "    }\n",
              "\n",
              "    .dataframe tbody tr th {\n",
              "        vertical-align: top;\n",
              "    }\n",
              "\n",
              "    .dataframe thead th {\n",
              "        text-align: right;\n",
              "    }\n",
              "</style>\n",
              "<table border=\"1\" class=\"dataframe\">\n",
              "  <thead>\n",
              "    <tr style=\"text-align: right;\">\n",
              "      <th></th>\n",
              "      <th>student_uid</th>\n",
              "      <th>duracion_curso</th>\n",
              "      <th>tiempo_inicio_al_15</th>\n",
              "      <th>tiempo_inicio_al_20</th>\n",
              "    </tr>\n",
              "  </thead>\n",
              "  <tbody>\n",
              "    <tr>\n",
              "      <th>count</th>\n",
              "      <td>229.000000</td>\n",
              "      <td>229.000000</td>\n",
              "      <td>224.000000</td>\n",
              "      <td>215.000000</td>\n",
              "    </tr>\n",
              "    <tr>\n",
              "      <th>mean</th>\n",
              "      <td>219.698690</td>\n",
              "      <td>97.388646</td>\n",
              "      <td>21.191964</td>\n",
              "      <td>23.730233</td>\n",
              "    </tr>\n",
              "    <tr>\n",
              "      <th>std</th>\n",
              "      <td>76.998069</td>\n",
              "      <td>13.007489</td>\n",
              "      <td>15.526160</td>\n",
              "      <td>16.822097</td>\n",
              "    </tr>\n",
              "    <tr>\n",
              "      <th>min</th>\n",
              "      <td>76.000000</td>\n",
              "      <td>83.000000</td>\n",
              "      <td>0.000000</td>\n",
              "      <td>0.000000</td>\n",
              "    </tr>\n",
              "    <tr>\n",
              "      <th>25%</th>\n",
              "      <td>158.000000</td>\n",
              "      <td>83.000000</td>\n",
              "      <td>11.000000</td>\n",
              "      <td>11.500000</td>\n",
              "    </tr>\n",
              "    <tr>\n",
              "      <th>50%</th>\n",
              "      <td>219.000000</td>\n",
              "      <td>96.000000</td>\n",
              "      <td>19.000000</td>\n",
              "      <td>20.000000</td>\n",
              "    </tr>\n",
              "    <tr>\n",
              "      <th>75%</th>\n",
              "      <td>286.000000</td>\n",
              "      <td>112.000000</td>\n",
              "      <td>22.000000</td>\n",
              "      <td>28.000000</td>\n",
              "    </tr>\n",
              "    <tr>\n",
              "      <th>max</th>\n",
              "      <td>353.000000</td>\n",
              "      <td>112.000000</td>\n",
              "      <td>83.000000</td>\n",
              "      <td>83.000000</td>\n",
              "    </tr>\n",
              "  </tbody>\n",
              "</table>\n",
              "</div>"
            ],
            "text/plain": [
              "       student_uid  duracion_curso  tiempo_inicio_al_15  tiempo_inicio_al_20\n",
              "count   229.000000      229.000000           224.000000           215.000000\n",
              "mean    219.698690       97.388646            21.191964            23.730233\n",
              "std      76.998069       13.007489            15.526160            16.822097\n",
              "min      76.000000       83.000000             0.000000             0.000000\n",
              "25%     158.000000       83.000000            11.000000            11.500000\n",
              "50%     219.000000       96.000000            19.000000            20.000000\n",
              "75%     286.000000      112.000000            22.000000            28.000000\n",
              "max     353.000000      112.000000            83.000000            83.000000"
            ]
          },
          "metadata": {},
          "execution_count": 54
        }
      ]
    },
    {
      "cell_type": "markdown",
      "metadata": {
        "id": "gg8u0u2T0zdB"
      },
      "source": [
        "**Síntesis de las descriptivas para todos los estudiantes analizados en conjunto**\n",
        "\n",
        "* En promedio, habría que esperar **21 días** desde el comienzo de los envíos, para tener información de las resoluciones del ejercicio 15. Y **24 días** para tener las del ejercicio 20. Es decir, habría que considerar un promedio de **3 días de diferencia a esperar** entre dichos ejercicios.\n",
        "\n",
        "* Como se puede apreciar una **alta variabilidad** en las distribuciones de estos tiempos (16 y 17 días de desviación alrededor de la medias referenciadas), observamos también las medianas y el cuartil 3 de cada distribución:  \n",
        "  \n",
        "  - **el valor central** de la distribución de \"tiempo para llegar al ejercicio 15\" es de **19 días**; y \"para llegar al ejercicio 20\", de **20 días**.\n",
        "\n",
        "  - **el tercer cuartil** es **22 días** entre el incio y el ejercicio 15, y de **28 días** entre el inicio y el ejercicio 20.\n",
        "\n",
        "  - Es decir, **entre las resoluciones del ejercicio 15 y 20 hay un día de diferencia, pero se ve una mayor dispersión de datos** respecto al tercer cuartil cuando se mira la **resolución del ejercicio 20** (3 días de desviación entre Q2 y Q3 para llegar al ejercicio 15, y 8 días de desviación entre Q2 y Q3 para llegar al ejercicio 15).\n",
        "\n",
        "* En cualquier caso, observamos que la **mediana** en la **duración total** del curso es de **96 días**, y el máximo tiempo alcanzado para la finalización fueron 112 días.\n",
        "\n",
        "* **En síntesis, a pesar de haber cierta variabilidad en la distribución del tiempo de resolución entre los estudiantes, podemos ver que no resulta tan significativo esperar hasta 3 días en promedio para contar con la resolución del ejercicio 20. O quizá hasta un máximo de 8 días para contar con el 75% de las resoluciones de dicho ejercicio, considerando que el recorrido total es alcanzado por el 75% de los estudiantes en 112 días.**\n",
        "\n",
        "* Datos:\n",
        "  - Para contar con la resolución del ejercicio 15 --> 22 días/112 días = 20% del tiempo total.\n",
        "  - Para contar con la resolución del ejercicio 20 --> 28 días/112 días = 25% del tiempo total.\n",
        "  - Diferencia de días máxima entre el 15 y el 20 --> 8/112 = 7%\n",
        "\n",
        "* Con todo esto consideramos que, esperar entre 1 y máximo 8 días, puede ser aceptable para contar con mayor cantidad de ejercicios (y por ello mejores predicciones). Ya que esta \"primera mitad de ejercicios\" (1 al 20) son resueltos por los estudiantes en el primer quinto del tiempo total del cursado.\n",
        "\n",
        "\n"
      ],
      "id": "gg8u0u2T0zdB"
    },
    {
      "cell_type": "code",
      "metadata": {
        "colab": {
          "base_uri": "https://localhost:8080/",
          "height": 354
        },
        "id": "K9jTer2l-vEi",
        "cellView": "form",
        "collapsed": true,
        "outputId": "a07ea775-2048-488e-9b94-d9eef44b0014"
      },
      "source": [
        "#@title\n",
        "plt.figure(figsize = (10,5))\n",
        "sns.boxplot(data = envios_ej_15_20, x = \"tiempo_inicio_al_15\", y=\"mes_anio\")"
      ],
      "id": "K9jTer2l-vEi",
      "execution_count": null,
      "outputs": [
        {
          "output_type": "execute_result",
          "data": {
            "text/plain": [
              "<matplotlib.axes._subplots.AxesSubplot at 0x7f7210eb8850>"
            ]
          },
          "metadata": {},
          "execution_count": 26
        },
        {
          "output_type": "display_data",
          "data": {
            "image/png": "[encoded data removed]",
            "text/plain": [
              "<Figure size 720x360 with 1 Axes>"
            ]
          },
          "metadata": {
            "needs_background": "light"
          }
        }
      ]
    },
    {
      "cell_type": "code",
      "metadata": {
        "colab": {
          "base_uri": "https://localhost:8080/",
          "height": 354
        },
        "id": "RE49N3NVAVSi",
        "collapsed": true,
        "cellView": "form",
        "outputId": "52b6e4ca-401a-4567-a8cb-a75e57086899"
      },
      "source": [
        "#@title\n",
        "\n",
        "plt.figure(figsize = (10,5))\n",
        "sns.boxplot(data = envios_ej_15_20, x = \"tiempo_inicio_al_20\", y=\"mes_anio\")"
      ],
      "id": "RE49N3NVAVSi",
      "execution_count": null,
      "outputs": [
        {
          "output_type": "execute_result",
          "data": {
            "text/plain": [
              "<matplotlib.axes._subplots.AxesSubplot at 0x7f7210d6f850>"
            ]
          },
          "metadata": {},
          "execution_count": 27
        },
        {
          "output_type": "display_data",
          "data": {
            "image/png": "[encoded data removed]",
            "text/plain": [
              "<Figure size 720x360 with 1 Axes>"
            ]
          },
          "metadata": {
            "needs_background": "light"
          }
        }
      ]
    },
    {
      "cell_type": "markdown",
      "metadata": {
        "id": "0lrT3Tff1jkc"
      },
      "source": [
        "**Observaciones de las descriptivas discriminadas por cohortes de estudiantes**\n",
        "\n",
        "* Comparativamente, vemos que el tiempo \"mediano\" en el que se comienzan a resolver cada uno de los ejercicios disminuye entre las sucesivas cohortes. \n",
        "\n",
        "* La cohorte I tiene aprox. la mitad de estudiantes que las cohortes II y III (46, 93 y 90 estudiantes respectivamente). Las últimas cohortes podrían considerarse más representativas en términos de cantidad de casos.\n",
        "\n",
        "* Así como se observó en las descriptivas generales, en estas descriptivas por cohortes también se aprecia una mayor dispersión en los tiempos que tardan los estudiantes en llegar al ejercicio 20, vs. llegar al ejercicio 15.\n",
        "\n",
        "* A pesar de las diferencias y variabilidades resaltadas, arribamos a las mismas conclusiones obtenidas con las descriptivas generales, en relación a nuestro problema de estudio y a las preguntas que nos habíamos planteado analizar."
      ],
      "id": "0lrT3Tff1jkc"
    },
    {
      "cell_type": "markdown",
      "metadata": {
        "id": "peE18Y3sd_5A"
      },
      "source": [
        "\n",
        "**Observaciones generales del análisis del tiempo calendario**\n",
        "\n",
        " 1) Haber descubierto que esperar entre uno a ocho días para obtener mejores predicciones resulta relativamente insignificante con respecto a la \"duración total\" del curso (112 días), es una muy buena información a considerar. \n",
        "\n",
        " 2) De todas formas, nos interesa seguir probando versiones del modelo, que permitan disminuir la cantidad de ejercicios necesarios para obtener predicciones, ya que \"esperar\" hasta el ejercicio 20 igual implica contar con aproximadamente \"la mitad del recorrido total en términos de actividades\".\n"
      ],
      "id": "peE18Y3sd_5A"
    },
    {
      "cell_type": "markdown",
      "metadata": {
        "id": "EFdE7XhgoDX-"
      },
      "source": [
        "### Análisis: curación de variables utilizadas"
      ],
      "id": "EFdE7XhgoDX-"
    },
    {
      "cell_type": "markdown",
      "metadata": {
        "id": "3g7gAUqUpVq7"
      },
      "source": [
        "**Observamos al realizar las estimaciones, que en los 2 modelos anteriores no es muy adecuado completar con 0's las celdas vacías** de cada una de las variables de intentos incorrectos y de tiempo de resolución. Dichos valores perdidos, corresponden a **estudiantes que no resolvieron esos ejercicios**, y al completarlos con 0's, los estaríamos **confundiendo con los que sí los resolvieron correctamente en el primer envío**.\n",
        "\n",
        "Por lo tanto, realizaremos un nuevo análisis donde no completaremos los `NaN`'s con `0`, si no que los dejaremos como están para decidir qué otro criterio aplicar (seleccionar/eliminar variables, o conservar las variables y decidir respecto a su imputación).\n",
        "\n",
        "**IMPORTANTE:**\n",
        "\n",
        "* **Necesitamos imputar los valores perdidos de las variables de intentos fallidos y de tiempo invertido, para cada ejercicio, que decidamos mantener en el dataset** (es decir, aquellas que tienen aproximadamente menos del 20% de datos perdidos).\n",
        "\n",
        "* Para poder decidir un criterio de imputación, necesitamos hacer un supuesto respecto a qué representan los casos perdidos, y tomar una decisión.\n",
        "\n",
        "* Describimos a continuación la línea de pensamiento que hicimos y su conclusión:\n",
        "\n",
        "  1) Los casos perdidos de las variables intentos fallidos y tiempo invertido, son aquellos estudiantes que no enviaron resoluciones para determinados ejercicios.\n",
        "  \n",
        "  2) Si no enviaron soluciones, es más probable que sea porque no los sabían hacer (ejercicios difíciles para ellos), a que sea porque sí los sabían hacer.\n",
        "\n",
        "  3) Luego, los estudiantes que saltearon ejercicios por ser “difíciles”, serían más parecidos a un perfil desertor, que a un perfil no desertor. \n",
        "\n",
        "  4) Por lo visto en entregas anteriores, el perfil desertor se condice con valores altos de intentos fallidos y tiempo invertido.\n",
        "\n",
        "  **5) Por lo tanto, sería lógico imputar los `NaN`'s con valores similares al del perfil desertor.**\n",
        "  \n",
        "  6) En este sentido, consideramos que para tratar de mantener la forma de la distribución de cada variable, y no sesgar con la imputación el modelo predictivo, **deberíamos asignar los`NaN`'s con el valor máximo de cada variable.**"
      ],
      "id": "3g7gAUqUpVq7"
    },
    {
      "cell_type": "code",
      "metadata": {
        "colab": {
          "base_uri": "https://localhost:8080/"
        },
        "id": "Sm8e6J4IpBVz",
        "outputId": "17c78563-80ef-429a-da43-b6c867ac9035"
      },
      "source": [
        "data_por_estudiante = data_por_student(list(range(1, 21)), np.nan, np.nan)\n",
        "\n",
        "# Analizamos porcentaje de datos perdidos por cada variable\n",
        "(data_por_estudiante.isna().sum() / 277).sort_values(ascending = False)"
      ],
      "id": "Sm8e6J4IpBVz",
      "execution_count": null,
      "outputs": [
        {
          "output_type": "execute_result",
          "data": {
            "text/plain": [
              "intentos_incorrectos_18     0.350181\n",
              "tiempo_total_18             0.350181\n",
              "tiempo_total_8              0.277978\n",
              "intentos_incorrectos_8      0.277978\n",
              "tiempo_total_1              0.256318\n",
              "intentos_incorrectos_1      0.256318\n",
              "tiempo_total_20             0.223827\n",
              "intentos_incorrectos_20     0.223827\n",
              "intentos_incorrectos_19     0.202166\n",
              "tiempo_total_16             0.202166\n",
              "intentos_incorrectos_16     0.202166\n",
              "tiempo_total_19             0.202166\n",
              "tiempo_total_15             0.191336\n",
              "intentos_incorrectos_15     0.191336\n",
              "intentos_incorrectos_13     0.180505\n",
              "tiempo_total_13             0.180505\n",
              "tiempo_total_14             0.173285\n",
              "intentos_incorrectos_14     0.173285\n",
              "intentos_incorrectos_12     0.151625\n",
              "tiempo_total_12             0.151625\n",
              "tiempo_total_11             0.140794\n",
              "intentos_incorrectos_11     0.140794\n",
              "tiempo_total_10             0.111913\n",
              "intentos_incorrectos_10     0.111913\n",
              "tiempo_total_6              0.083032\n",
              "intentos_incorrectos_6      0.083032\n",
              "tiempo_total_9              0.068592\n",
              "intentos_incorrectos_9      0.068592\n",
              "tiempo_total_3              0.028881\n",
              "intentos_incorrectos_3      0.028881\n",
              "tiempo_total_2              0.010830\n",
              "intentos_incorrectos_2      0.010830\n",
              "cond_cant_ejer_resueltos    0.000000\n",
              "ultimo_estado_9             0.000000\n",
              "ultimo_estado_8             0.000000\n",
              "ultimo_estado_1             0.000000\n",
              "ultimo_estado_10            0.000000\n",
              "ultimo_estado_11            0.000000\n",
              "ultimo_estado_12            0.000000\n",
              "ultimo_estado_13            0.000000\n",
              "ultimo_estado_14            0.000000\n",
              "ultimo_estado_15            0.000000\n",
              "ultimo_estado_16            0.000000\n",
              "ultimo_estado_18            0.000000\n",
              "ultimo_estado_19            0.000000\n",
              "ultimo_estado_2             0.000000\n",
              "ultimo_estado_20            0.000000\n",
              "ultimo_estado_3             0.000000\n",
              "ultimo_estado_6             0.000000\n",
              "student_uid                 0.000000\n",
              "dtype: float64"
            ]
          },
          "metadata": {},
          "execution_count": 25
        }
      ]
    },
    {
      "cell_type": "markdown",
      "metadata": {
        "id": "_tBBlLQ95DfX"
      },
      "source": [
        "Si vemos por columna la cantidad de `NaN`'s, la mayoría se da en los ejercicios 18 (35%), 8 (27%), 1 (25%) y 20 (22%). \n",
        "\n",
        "Estos datos se corresponden con el porcentaje de estudiantes que no realizaron envíos en cada uno de estos ejercicios.\n",
        "\n",
        "**Dado que son porcentajes altos y no queremos sesgar los resultados del modelo, consideramos la posibilidad de eliminar estas variables.** Pero como tampoco queremos perder la información referida a los estudiantes que no hicieron envíos en estos ejercicios, entonces **pensamos en generar una variable dicotómica, que indique si hizo o no cada ejercicio**.\n",
        "\n",
        "Mostramos las métricas de dos modelos más, considerando estas opciones combinadas, para tomar una decisión final."
      ],
      "id": "_tBBlLQ95DfX"
    },
    {
      "cell_type": "markdown",
      "metadata": {
        "id": "OWqIvpWk3Dn-"
      },
      "source": [
        "## Modelo 3: Regresión Logística \"Mejorada\" (post análisis) \n",
        "\n",
        "* Incluye ejercicios: **1 al 20 (quitando ejercicios 1, 8, 18, 20)**\n",
        "* Imputación de NaN's en las variables tiempo invertido, e intentos fallidos (para cada ejercicio incluido) con: **máximo valor de cada variable**\n",
        "* Con variable categórica (**hizo/no hizo cada ejercicio incluido**)"
      ],
      "id": "OWqIvpWk3Dn-"
    },
    {
      "cell_type": "code",
      "metadata": {
        "id": "todyEatKIWkP",
        "cellView": "form"
      },
      "source": [
        "#@title\n",
        "# Generación del DF \n",
        "df_1_20_seleccionado = data_por_student(list(set(list(range(1,21)))), imputar_con_constante = False, imputacion_nan = 0)\n",
        "df_1_20_seleccionado = df_1_20_seleccionado.drop([\"intentos_incorrectos_1\", \"intentos_incorrectos_8\", \"intentos_incorrectos_18\", \"intentos_incorrectos_20\", \"tiempo_total_1\", \"tiempo_total_8\", \"tiempo_total_18\", \"tiempo_total_20\"], axis = 1)\n",
        "df_1_20_seleccionado"
      ],
      "id": "todyEatKIWkP",
      "execution_count": null,
      "outputs": []
    },
    {
      "cell_type": "code",
      "metadata": {
        "id": "ErxBxLrdpUq8",
        "cellView": "form"
      },
      "source": [
        "#@title\n",
        "X_train_1_20_seleccionado, X_test_1_20_seleccionado, y_train_1_20_seleccionado, y_test_1_20_seleccionado, y_train_pred_lr_1_20_seleccionado, y_test_pred_lr_1_20_seleccionado = regresion_logistica(df_1_20_seleccionado, 0.3, False)"
      ],
      "id": "ErxBxLrdpUq8",
      "execution_count": null,
      "outputs": []
    },
    {
      "cell_type": "code",
      "metadata": {
        "id": "MKuP7MEl3Dn_",
        "colab": {
          "base_uri": "https://localhost:8080/"
        },
        "cellView": "form",
        "outputId": "489f0d60-58e5-4386-a892-ab8f854dff96"
      },
      "source": [
        "#@title\n",
        "print(\"Métricas del TRAIN para 1 al 20 (quitando ejercicios 1, 8, 18, 20), CON columna 'ultimo_estado'\")\n",
        "print(classification_report(y_train_1_20_seleccionado, y_train_pred_lr_1_20_seleccionado))"
      ],
      "id": "MKuP7MEl3Dn_",
      "execution_count": null,
      "outputs": [
        {
          "output_type": "stream",
          "name": "stdout",
          "text": [
            "Métricas del TRAIN para 1 al 20 (quitando ejercicios 1, 8, 18, 20), CON columna 'ultimo_estado'\n",
            "              precision    recall  f1-score   support\n",
            "\n",
            "           0       0.97      0.99      0.98       149\n",
            "           1       0.98      0.91      0.94        46\n",
            "\n",
            "    accuracy                           0.97       195\n",
            "   macro avg       0.98      0.95      0.96       195\n",
            "weighted avg       0.97      0.97      0.97       195\n",
            "\n"
          ]
        }
      ]
    },
    {
      "cell_type": "code",
      "metadata": {
        "id": "f4iKAfLK3Dn_",
        "colab": {
          "base_uri": "https://localhost:8080/"
        },
        "cellView": "form",
        "outputId": "91b1106f-9915-40db-a511-8c1addbcf7d8"
      },
      "source": [
        "#@title\n",
        "print(\"Métricas del TEST para 1 al 20 (quitando ejercicios 1, 8, 18, 20), CON columna 'ultimo_estado'\")\n",
        "print(classification_report(y_test_1_20_seleccionado, y_test_pred_lr_1_20_seleccionado))"
      ],
      "id": "f4iKAfLK3Dn_",
      "execution_count": null,
      "outputs": [
        {
          "output_type": "stream",
          "name": "stdout",
          "text": [
            "Métricas del TEST para 1 al 20 (quitando ejercicios 1, 8, 18, 20), CON columna 'ultimo_estado'\n",
            "              precision    recall  f1-score   support\n",
            "\n",
            "           0       0.98      0.94      0.96        62\n",
            "           1       0.84      0.95      0.89        22\n",
            "\n",
            "    accuracy                           0.94        84\n",
            "   macro avg       0.91      0.95      0.93        84\n",
            "weighted avg       0.95      0.94      0.94        84\n",
            "\n"
          ]
        }
      ]
    },
    {
      "cell_type": "markdown",
      "metadata": {
        "id": "dXYt9ae4J4YZ"
      },
      "source": [
        "#### **Conclusión modelo 3**\n",
        "\n",
        "* Los valores de las métricas descriptas a continuación, las observamos en el conjunto de test (ya que allí vemos la performance del modelo ante nuevas observaciones)\n",
        "\n",
        "* Comparando con el modelo baseline, logramos una amplia mejora del RECALL de la clase 1 (de 0.47 a 0.95), aunque bajan se mantienen altas precision de clase 1 (de 0.84 a 0.82) y clase 0 (de 0.98 a 0.86). Mejora el recall de clase 0 de 0.94 a 0.97 y el accuracy en general (0.84 a 0.94).\n",
        "\n",
        "* **Con relación al modelo 1 (que hasta ahora era el mejor), se observan mejoras para todas las métricas (ver en particular la mejora del RECALL de la clase 1 => 0.64 a 0.95)**; y precision de clase 1 (0.67 a 0.84). Accuracy pasa de de 0.82 a 0.94, y las métricas de la clase 0 también mejoran significativamente en el modelo 3 (de valores cercanos a 0.88, se pasa a valores por encima del 0.94).\n",
        "\n",
        "* Si bien entre los datos del conjunto de train y test del Modelo 3, la precisión de la clase 1 baja, (de 0.98 a 0.84) se mantiene en un valor alto y es un resultado esperable, reflejando que el modelo no overfitea."
      ],
      "id": "dXYt9ae4J4YZ"
    },
    {
      "cell_type": "markdown",
      "metadata": {
        "id": "EhsYtHNXIS9_"
      },
      "source": [
        "## Modelo 4: Regresión Logística (chequeo)\n",
        "\n",
        "\n",
        "* Incluye ejercicios: 1 al 20 (dejamos ejercicios 1, 8, 18, 20 con alto % Nan's)\n",
        "* Con variable categórica (hizo/no hizo cada ejercicio incluido)\n",
        "* Imputación de NaN's en las variables tiempo invertido, e intentos fallidos, para cada ejercicio incluido) con: máximo valor de cada variable "
      ],
      "id": "EhsYtHNXIS9_"
    },
    {
      "cell_type": "code",
      "metadata": {
        "id": "DaOdeX0UITRh",
        "cellView": "form"
      },
      "source": [
        "#@title\n",
        "# Regresión logística para los primeros 20 ejercicios, CON columna de último estado:\n",
        "X_train_1_20, X_test_1_20, y_train_1_20, y_test_1_20, y_train_pred_lr_1_20, y_test_pred_lr_1_20 = construir_regresion_logistica(list(range(1,21)), 0.3, False, 0, False)"
      ],
      "id": "DaOdeX0UITRh",
      "execution_count": null,
      "outputs": []
    },
    {
      "cell_type": "code",
      "metadata": {
        "id": "4vjS8QGuITRj",
        "colab": {
          "base_uri": "https://localhost:8080/"
        },
        "cellView": "form",
        "outputId": "680aa8df-5081-4dba-c129-5a61eb0b2ad3"
      },
      "source": [
        "#@title\n",
        "print(\"Métricas del TRAIN para primeros 20 ejercicios, CON columna 'ultimo_estado'\")\n",
        "print(classification_report(y_train_1_20, y_train_pred_lr_1_20))"
      ],
      "id": "4vjS8QGuITRj",
      "execution_count": null,
      "outputs": [
        {
          "output_type": "stream",
          "name": "stdout",
          "text": [
            "Métricas del TRAIN para primeros 20 ejercicios, CON columna 'ultimo_estado'\n",
            "              precision    recall  f1-score   support\n",
            "\n",
            "           0       0.97      0.99      0.98       149\n",
            "           1       0.95      0.91      0.93        46\n",
            "\n",
            "    accuracy                           0.97       195\n",
            "   macro avg       0.96      0.95      0.96       195\n",
            "weighted avg       0.97      0.97      0.97       195\n",
            "\n"
          ]
        }
      ]
    },
    {
      "cell_type": "code",
      "metadata": {
        "id": "mPcFN6QbITRk",
        "colab": {
          "base_uri": "https://localhost:8080/"
        },
        "cellView": "form",
        "outputId": "66ef7c81-45b5-4fc8-d45c-e9aa79498a87"
      },
      "source": [
        "#@title\n",
        "print(\"Métricas del TEST para primeros 20 ejercicios, CON columna 'ultimo_estado'\")\n",
        "print(classification_report(y_test_1_20, y_test_pred_lr_1_20))"
      ],
      "id": "mPcFN6QbITRk",
      "execution_count": null,
      "outputs": [
        {
          "output_type": "stream",
          "name": "stdout",
          "text": [
            "Métricas del TEST para primeros 20 ejercicios, CON columna 'ultimo_estado'\n",
            "              precision    recall  f1-score   support\n",
            "\n",
            "           0       1.00      0.95      0.98        62\n",
            "           1       0.88      1.00      0.94        22\n",
            "\n",
            "    accuracy                           0.96        84\n",
            "   macro avg       0.94      0.98      0.96        84\n",
            "weighted avg       0.97      0.96      0.96        84\n",
            "\n"
          ]
        }
      ]
    },
    {
      "cell_type": "markdown",
      "metadata": {
        "id": "4oCN_hS7LEOD"
      },
      "source": [
        "#### **Conclusión modelo 4 (final)**\n",
        "\n",
        "**Vemos que es correcto eliminar los ejercicios que tuvieron alto porcentaje de NaN's, ya que dejándolos el modelo muestra problemas de overfitting en test.**\n",
        "\n",
        "Es decir, entendemos al ver estos resultados, que si imputamos las variables con muchos Nan con el perfil \"desertor\", en realidad lo que estamos haciendo es clasificar \"previamente\" a los estudiantes que no resolvieron ejercicios, como desertores. Y como son muchos estudiantes en esas variables, la regresión aprende el comportamiento \"imputado\" y luego arroja una \"métrica = 1\" en recall de clase 1 (también en precision de clase 0 resulta =1 y el recall de clase 0 es muy próximo a 1 = 0.95).\n",
        "\n",
        "**Por ende, el mejor modelo obtenido es el número 3**."
      ],
      "id": "4oCN_hS7LEOD"
    },
    {
      "cell_type": "markdown",
      "metadata": {
        "id": "5SZmThBxGT53"
      },
      "source": [
        "## Modelo 3 (simplificado)\n",
        "Pensamos entonces en la posibilidad de quitar las variables categóricas de cada ejercicio (hizo/ no hizo) en el modelo 3, para ver si cambiaba la performance del mismo. \n",
        "\n",
        "* Incluye ejercicios: **1 al 20 (quitando ejercicios 1, 8, 18, 20)**\n",
        "* Imputación de NaN's en las variables tiempo invertido, e intentos fallidos (para cada ejercicio incluido) con: **máximo valor de cada variable**\n",
        "* Sin variable categórica (**hizo/no hizo cada ejercicio incluido**)"
      ],
      "id": "5SZmThBxGT53"
    },
    {
      "cell_type": "code",
      "metadata": {
        "cellView": "form",
        "id": "_YIucOibHJxL"
      },
      "source": [
        "#@title\n",
        "# Generación del DF \n",
        "df_1_20_seleccionado = data_por_student(list(set(list(range(1,21)))), imputar_con_constante = False, imputacion_nan = 0)\n",
        "df_1_20_seleccionado = df_1_20_seleccionado.drop([\"intentos_incorrectos_1\", \"intentos_incorrectos_8\", \"intentos_incorrectos_18\", \"intentos_incorrectos_20\", \"tiempo_total_1\", \"tiempo_total_8\", \"tiempo_total_18\", \"tiempo_total_20\"], axis = 1)\n",
        "df_1_20_seleccionado"
      ],
      "id": "_YIucOibHJxL",
      "execution_count": null,
      "outputs": []
    },
    {
      "cell_type": "code",
      "metadata": {
        "cellView": "form",
        "id": "_U1z250gHJxN"
      },
      "source": [
        "#@title\n",
        "X_train_1_20_seleccionado, X_test_1_20_seleccionado, y_train_1_20_seleccionado, y_test_1_20_seleccionado, y_train_pred_lr_1_20_seleccionado, y_test_pred_lr_1_20_seleccionado = regresion_logistica(df_1_20_seleccionado, 0.3, True)"
      ],
      "id": "_U1z250gHJxN",
      "execution_count": null,
      "outputs": []
    },
    {
      "cell_type": "code",
      "metadata": {
        "colab": {
          "base_uri": "https://localhost:8080/"
        },
        "cellView": "form",
        "id": "aEzTYZ0gHJxN",
        "outputId": "550b04ee-eeef-43c4-f7b6-feffe0fb6b4c"
      },
      "source": [
        "#@title\n",
        "print(\"Métricas del TRAIN para 1 al 20 (quitando ejercicios 1, 8, 18, 20), SIN columna 'ultimo_estado'\")\n",
        "print(classification_report(y_train_1_20_seleccionado, y_train_pred_lr_1_20_seleccionado))"
      ],
      "id": "aEzTYZ0gHJxN",
      "execution_count": null,
      "outputs": [
        {
          "output_type": "stream",
          "name": "stdout",
          "text": [
            "Métricas del TRAIN para 1 al 20 (quitando ejercicios 1, 8, 18, 20), SIN columna 'ultimo_estado'\n",
            "              precision    recall  f1-score   support\n",
            "\n",
            "           0       0.97      0.99      0.98       149\n",
            "           1       0.95      0.91      0.93        46\n",
            "\n",
            "    accuracy                           0.97       195\n",
            "   macro avg       0.96      0.95      0.96       195\n",
            "weighted avg       0.97      0.97      0.97       195\n",
            "\n"
          ]
        }
      ]
    },
    {
      "cell_type": "code",
      "metadata": {
        "colab": {
          "base_uri": "https://localhost:8080/"
        },
        "cellView": "form",
        "id": "kqKDyeOCHJxO",
        "outputId": "80825bb1-15c0-4bf0-b2b4-05e1040eaa73"
      },
      "source": [
        "#@title\n",
        "print(\"Métricas del TEST para 1 al 20 (quitando ejercicios 1, 8, 18, 20), SIN columna 'ultimo_estado'\")\n",
        "print(classification_report(y_test_1_20_seleccionado, y_test_pred_lr_1_20_seleccionado))"
      ],
      "id": "kqKDyeOCHJxO",
      "execution_count": null,
      "outputs": [
        {
          "output_type": "stream",
          "name": "stdout",
          "text": [
            "Métricas del TEST para 1 al 20 (quitando ejercicios 1, 8, 18, 20), SIN columna 'ultimo_estado'\n",
            "              precision    recall  f1-score   support\n",
            "\n",
            "           0       0.98      0.95      0.97        62\n",
            "           1       0.88      0.95      0.91        22\n",
            "\n",
            "    accuracy                           0.95        84\n",
            "   macro avg       0.93      0.95      0.94        84\n",
            "weighted avg       0.95      0.95      0.95        84\n",
            "\n"
          ]
        }
      ]
    },
    {
      "cell_type": "markdown",
      "metadata": {
        "id": "bvP6X5sYHDsH"
      },
      "source": [
        "**Obtuvimos métricas muy similares a las que mostramos en el modelo 3 original. Por lo tanto, priorizando el principio de parsimonia, entendemos que el mejor modelo de predicción de deserción es el \"Modelo 3 (simplificado)\".**"
      ],
      "id": "bvP6X5sYHDsH"
    },
    {
      "cell_type": "markdown",
      "metadata": {
        "id": "t5ptlFcEFFyo"
      },
      "source": [
        "# 6- ANÁLISIS FUTUROS\n",
        "\n",
        "Se proponen como mejoras al modelo seleccionado los siguientes aspectos:\n",
        "\n",
        "1. Hacer pruebas con conjuntos de train, test y validation.\n",
        "\n",
        "2. Probar usar un **cuantil** en lugar del máximo de la variable de intentos fallidos, y de tiempo total.\n",
        "\n",
        "3. Probar combinar eso último con quitar o dejar los ejercicios con mucha deserción.\n",
        "\n",
        "4. Cambiar la variable categórica BINARIA “Hizo / No lo hizo”, por otra que sea **categórica ORDINAL** (no lo hizo, lo hizo mal, lo hizo regular, lo hizo bien). \n",
        "Notar: \n",
        "Como establecimos un supuesto respecto a los casos perdidos (asimilarlos al perfil desertor, o de “dificultad en la resolución”; y no a un perfil que se relaciona con saltear ejercicios porque son fáciles), podemos entonces ubicar los Nan en un  ordenamiento de status, por ejemplo: (Nans) = no lo hizo, (status Failed y Errored) = lo hizo mal, (status Passed with warning) = lo hizo regular , y (status Passed)  = lo hizo bien.\n"
      ],
      "id": "t5ptlFcEFFyo"
    },
    {
      "cell_type": "markdown",
      "metadata": {
        "id": "wTGLWtyhhqB5"
      },
      "source": [
        "# FIN"
      ],
      "id": "wTGLWtyhhqB5"
    }
  ]
}